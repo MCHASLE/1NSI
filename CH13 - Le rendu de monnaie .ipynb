{
 "cells": [
  {
   "cell_type": "markdown",
   "metadata": {},
   "source": [
    "# COURS : Un exemple d'algorithme glouton : le rendu de monnaie.\n",
    "\n",
    "\n",
    "## Enoncé : \n",
    "\n",
    "> A la caisse, il y a 17 € à rendre. On dispose d'espèces de 5, 2 et 1 €.\n",
    "Quel est le rendu de monnaie qui **minimise** le nombre d'espèces ?\n",
    "\n",
    "Ce problème est un problème d'**optimisation** : il ne s'agit pas de trouver **une** solution, mais de trouver **la meilleure**.\n",
    "\n",
    "En apparence simple, ce problème est considéré comme un des plus difficiles de l'informatique, les problèmes **NP-complets**. Evidemment, la difficulté intervient quand le nombre d'espèces et la somme deviennent grands. "
   ]
  },
  {
   "cell_type": "markdown",
   "metadata": {},
   "source": [
    "### 1. une solution gloutonne :\n",
    "Une solution simple consiste à essayer de placer en priorité les grosses espèces, ce qui est une bonne idée pour minimiser le nombre de celles-ci."
   ]
  },
  {
   "cell_type": "code",
   "execution_count": null,
   "metadata": {},
   "outputs": [],
   "source": [
    "Systeme = [5,2,1] # le système de monnaie"
   ]
  },
  {
   "cell_type": "code",
   "execution_count": 1,
   "metadata": {},
   "outputs": [],
   "source": [
    "def rendu_glouton(n,S=[5,2,1]):\n",
    "    '''entrée : S (list)) le système de monnaie dans l'ordre décroissant  (par defaut c'est [5,2,1])\n",
    "                n (int) : la somme à rembourser \n",
    "                sortie : liste des especes ou liste vide si impossible'''\n",
    "    reste=n # ce qui reste à rembourser\n",
    "    iPiece=0 # l'indice de la pièce à placer\n",
    "    liste = [] # la liste des pièces à rendre\n",
    "    while reste >0:\n",
    "        # recherche de la plus grosse pièce possible\n",
    "        if reste >= S[iPiece] : # on peut rendre la pièce\n",
    "            liste.append(S[iPiece])\n",
    "            reste = reste - S[iPiece]\n",
    "        else : # on essaye avec la pièce suivante\n",
    "            if iPiece < len(S)-1: # il y a bien une pièce suivante\n",
    "                iPiece+=1\n",
    "            else : \n",
    "                return [] # il reste à rendre mais pas de pièce dispo\n",
    "    return liste"
   ]
  },
  {
   "cell_type": "code",
   "execution_count": 3,
   "metadata": {},
   "outputs": [
    {
     "data": {
      "text/plain": [
       "[5, 5, 5, 1]"
      ]
     },
     "execution_count": 3,
     "metadata": {},
     "output_type": "execute_result"
    }
   ],
   "source": [
    "rendu_glouton(16)"
   ]
  },
  {
   "cell_type": "markdown",
   "metadata": {},
   "source": [
    "Pourquoi appelle-t-on cela un algorithme glouton ?\n",
    "\n",
    "Commençons par un exemple :"
   ]
  },
  {
   "cell_type": "code",
   "execution_count": 5,
   "metadata": {},
   "outputs": [
    {
     "data": {
      "text/plain": [
       "[4, 1, 1]"
      ]
     },
     "execution_count": 5,
     "metadata": {},
     "output_type": "execute_result"
    }
   ],
   "source": [
    "rendu_glouton(6,[4,3,1])"
   ]
  },
  {
   "cell_type": "markdown",
   "metadata": {},
   "source": [
    "On se rend compte que ce n'est pas la meilleure solution : `[3,3]` est meilleur car n'utilise que 2 pièces. \n",
    "Notre algorithme a en réalité fait un choix, appelé **heuristique** :\n",
    "- irréversible : on ne revient pas en arrière\n",
    "- pas toujours optimal.\n",
    "- celui de toujours optimiser à court terme : c'est pour cela que les anglais appellent-cela un algorithme gourmand ***greedy***, traduit en français par algorithme glouton."
   ]
  },
  {
   "cell_type": "markdown",
   "metadata": {},
   "source": [
    "## 2. Comment alors trouver une solution optimale dans tous les cas ?\n",
    "\n",
    "Il faut mettre en place des algorithmes qui permettent, à la différence de l'algorithme glouton, de revenir en arrière. En réalité, il faut quasiment tester toutes les combinaisons, ce qui devient très coûteux, voire impossible quand les chiffres deviennent élevés, car la complexité devient exponentielle !\n",
    "\n",
    "Par chance, on se rend compte que les systèmes de monnaie comme ceux en vigueur en Europe (10 €, 5€, 2€ et 1 € ) ne piègent pas notre algorithme glouton. On parle de système de monnaie **canonique**."
   ]
  },
  {
   "cell_type": "markdown",
   "metadata": {},
   "source": [
    "### Que retenir de ce cours ?\n",
    "\n",
    "- savoir ce qu'est un algorithme glouton, son parti-pris et son défaut.\n",
    "- savoir programmer le rendu de monnaie sans modèle."
   ]
  },
  {
   "cell_type": "code",
   "execution_count": null,
   "metadata": {},
   "outputs": [],
   "source": []
  }
 ],
 "metadata": {
  "kernelspec": {
   "display_name": "Python 3",
   "language": "python",
   "name": "python3"
  },
  "language_info": {
   "codemirror_mode": {
    "name": "ipython",
    "version": 3
   },
   "file_extension": ".py",
   "mimetype": "text/x-python",
   "name": "python",
   "nbconvert_exporter": "python",
   "pygments_lexer": "ipython3",
   "version": "3.7.1"
  }
 },
 "nbformat": 4,
 "nbformat_minor": 4
}
