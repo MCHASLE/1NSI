{
 "cells": [
  {
   "cell_type": "markdown",
   "metadata": {},
   "source": [
    "# CH4 TP : Les tableaux - ELEVE\n",
    "\n",
    "ce TP est très important, on prendra soin de bien coder, avec docstrings, noms de variables explicites et commentaires si nécessaires.\n",
    "On pensera aussi à proposer des jeux de tests pertinents à l'aide de la commande `assert`"
   ]
  },
  {
   "cell_type": "markdown",
   "metadata": {},
   "source": [
    "## 1 Les bases \n",
    "\n",
    "### ex 1  Les planètes\n",
    "\n",
    "\n",
    "Implémenter en Python le tableau `planetes`:\n",
    "\n",
    "| Mercure | Vénus | Terre | Mars | Jupyter | Saturne | Uranus | Neptune |\n",
    "| ------- | ----- | ----- | ---- |-------- | ------- | ------ | ------- |"
   ]
  },
  {
   "cell_type": "code",
   "execution_count": null,
   "metadata": {},
   "outputs": [],
   "source": []
  },
  {
   "cell_type": "markdown",
   "metadata": {},
   "source": [
    "A coder : Quel est le nombre de planètes dans le tableau ?"
   ]
  },
  {
   "cell_type": "code",
   "execution_count": null,
   "metadata": {},
   "outputs": [],
   "source": []
  },
  {
   "cell_type": "markdown",
   "metadata": {},
   "source": [
    "A coder : Quelle est la 4 ème planète du système solaire ?"
   ]
  },
  {
   "cell_type": "code",
   "execution_count": null,
   "metadata": {},
   "outputs": [],
   "source": []
  },
  {
   "cell_type": "markdown",
   "metadata": {},
   "source": [
    "### ex 2 zeros(n)\n",
    "Définir la fonction `zeros(n):  int -> tab` qui renvoie un tableau de taille n>0 contenant uniquement des 0 :\n"
   ]
  },
  {
   "cell_type": "code",
   "execution_count": null,
   "metadata": {},
   "outputs": [],
   "source": []
  },
  {
   "cell_type": "markdown",
   "metadata": {},
   "source": [
    "##  2 Les algorithmes de parcours (BAC)\n",
    "\n",
    "On considère le tableau `notes` d' Alice :\n",
    "\n",
    "| 10 | 8 | 12 | 14 | 7 | 16 | 7 | 11 |\n",
    "| -- | - | -- | -- | - | -- | - | -- |\n",
    "\n",
    "### ex 3 : La moyenne\n",
    "Coder la fonction `moyenne(t): tab -> float` qui retourne la moyenne des valeurs d'un tableau t quelconque : \n"
   ]
  },
  {
   "cell_type": "markdown",
   "metadata": {},
   "source": []
  },
  {
   "cell_type": "markdown",
   "metadata": {},
   "source": [
    "### ex 4: Le min et le max  :\n",
    "Coder les fonctions `min(t):tab ->float` et `max(t):tab ->float` qui retournent respectivement la valeur minimale et la valeur maximale."
   ]
  },
  {
   "cell_type": "code",
   "execution_count": null,
   "metadata": {},
   "outputs": [],
   "source": []
  },
  {
   "cell_type": "code",
   "execution_count": null,
   "metadata": {},
   "outputs": [],
   "source": []
  },
  {
   "cell_type": "markdown",
   "metadata": {},
   "source": [
    "### ex 4 : recherche de valeur\n",
    "Coder la fonction `recherche(t,v) : tab x float-> bool` qui retourne si oui ou non la valeur v se trouve dans le tableau t"
   ]
  },
  {
   "cell_type": "code",
   "execution_count": null,
   "metadata": {},
   "outputs": [],
   "source": []
  },
  {
   "cell_type": "markdown",
   "metadata": {},
   "source": [
    "variante : la fonction retourne l'indice de la valeur trouvée, -1 sinon"
   ]
  },
  {
   "cell_type": "code",
   "execution_count": null,
   "metadata": {},
   "outputs": [],
   "source": []
  },
  {
   "cell_type": "markdown",
   "metadata": {},
   "source": [
    "### ex 5 : recherche d'occurrences"
   ]
  },
  {
   "cell_type": "markdown",
   "metadata": {},
   "source": [
    "Coder la fonction `occurrences(t,v) : tab x float -> bool` qui calcule le nombre d'occurrences de la valeur v dans le tableau t"
   ]
  },
  {
   "cell_type": "code",
   "execution_count": null,
   "metadata": {},
   "outputs": [],
   "source": []
  },
  {
   "cell_type": "markdown",
   "metadata": {},
   "source": [
    "### ex 6 : exploitation des fonctions codées"
   ]
  },
  {
   "cell_type": "code",
   "execution_count": null,
   "metadata": {},
   "outputs": [],
   "source": [
    "# quelle est la moyenne d'Alice ?"
   ]
  },
  {
   "cell_type": "code",
   "execution_count": null,
   "metadata": {},
   "outputs": [],
   "source": [
    "# quelles sont les notes minimales et maximale d'Alice ?"
   ]
  },
  {
   "cell_type": "code",
   "execution_count": null,
   "metadata": {},
   "outputs": [],
   "source": [
    "# Alice a-t-elle eu 20 au moins une fois ?"
   ]
  },
  {
   "cell_type": "code",
   "execution_count": 1,
   "metadata": {},
   "outputs": [],
   "source": [
    "# combien de fois Alice a-t-elle eu la note de 7 ?"
   ]
  },
  {
   "cell_type": "code",
   "execution_count": null,
   "metadata": {},
   "outputs": [],
   "source": []
  }
 ],
 "metadata": {
  "kernelspec": {
   "display_name": "Python 3",
   "language": "python",
   "name": "python3"
  },
  "language_info": {
   "codemirror_mode": {
    "name": "ipython",
    "version": 3
   },
   "file_extension": ".py",
   "mimetype": "text/x-python",
   "name": "python",
   "nbconvert_exporter": "python",
   "pygments_lexer": "ipython3",
   "version": "3.7.1"
  }
 },
 "nbformat": 4,
 "nbformat_minor": 2
}
