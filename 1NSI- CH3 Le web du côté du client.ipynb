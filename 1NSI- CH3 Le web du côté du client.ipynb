{
 "cells": [
  {
   "cell_type": "markdown",
   "metadata": {},
   "source": [
    "# CH3 - TP 2 : observation d'une requête http (HyperText Transfer Protocol)\n",
    "\n",
    "<img src=\"https://www.nmedia.ca/gpc/_media/Image/2015119162157/communication-serveur-et-client_1100x0.png\" alt=\"schéma\" width=\"500\"/>"
   ]
  },
  {
   "cell_type": "markdown",
   "metadata": {},
   "source": [
    "## 1 - Préparation du serveur \n",
    "on utilise un petit serveur qui tourne en python et qui s'appelle `serverWebPost`.\n",
    "\n",
    "- récupérer le fichier `server-web-post.py` et le déposer sur son dossier personnel sur le réseau.\n",
    "- Dans au même niveau que ce script, créer un dossier`SITE` qui contient une page web `index.html` (à créer)\n",
    "- en ligne de commande, se placer dans le dossier du script et lancer `python server-web-post.py`( le serveur web utilise le port 8080) \n",
    "- communiquer son adresse IP à votre camarade, il vérifie si il peut accéder à votre site en tapant dans un navigateur http://votreadresseip:8080  (l'adresse IP est consultable grâce à la commande `ipconfig` sur windows, et `ifconfig` sur linux)\n",
    "\n",
    "remarque : on peut tester soit même son site en tapant l'adresse `127.0.0.1` qui signifie \"moi-même\"\n"
   ]
  },
  {
   "cell_type": "markdown",
   "metadata": {},
   "source": [
    "## 2 - côté client \n",
    "\n",
    "Plutôt que de consulter le site web sur un navigateur, nous allons analyser les réponses du serveur http en python grâce au module `requests`.\n",
    "On peut ainsi analyser, en plus du contenu (la page web), les données d'entête de la requête http et aussi les codes d'erreurs, dont la fameuse erreur `404`"
   ]
  },
  {
   "cell_type": "code",
   "execution_count": null,
   "metadata": {},
   "outputs": [],
   "source": [
    "# pour installer le module request (à effectuer dans le prompt anaconda de préférence)\n",
    "pip install requests"
   ]
  },
  {
   "cell_type": "code",
   "execution_count": null,
   "metadata": {},
   "outputs": [],
   "source": [
    "#pour installer le module request derrière un proxy d'adresse 10.0.0.1 et de port 3128\n",
    "#(à effectuer dans le prompt anaconda de préférence)\n",
    "set https_proxy=https://10.0.0.1:3128\n",
    "pip install requests        "
   ]
  },
  {
   "cell_type": "code",
   "execution_count": null,
   "metadata": {
    "scrolled": true
   },
   "outputs": [],
   "source": [
    "import requests   # cette commande n'est à éxécuter qu'une fois"
   ]
  },
  {
   "cell_type": "markdown",
   "metadata": {},
   "source": [
    "Les commandes utiles :"
   ]
  },
  {
   "cell_type": "code",
   "execution_count": null,
   "metadata": {},
   "outputs": [],
   "source": [
    "r = requests.get(\"http://linuxfr.org/\")  # lance une requète http et récupère la réponse"
   ]
  },
  {
   "cell_type": "code",
   "execution_count": null,
   "metadata": {},
   "outputs": [],
   "source": [
    "print(r.text)         #Retourne le contenu en unicode"
   ]
  },
  {
   "cell_type": "code",
   "execution_count": null,
   "metadata": {},
   "outputs": [],
   "source": [
    "print(r.headers)       #Retourne le headers sous forme de dictionnaire (voir chapitre ultérieur)"
   ]
  },
  {
   "cell_type": "code",
   "execution_count": null,
   "metadata": {},
   "outputs": [],
   "source": [
    "print(r.status_code)   #Retourne le status code"
   ]
  },
  {
   "cell_type": "markdown",
   "metadata": {},
   "source": [
    "A faire :\n",
    "\n",
    "- lancer une requète sur le site de son voisin et observez l'entête (headers) et le contenu, et le status code.\n",
    "- refaire ce travail avec une mauvaise adresse (par exemple en ajoutant index2.html) et noter le code d'erreur\n",
    "- refaire ce travail avec un serveur éteint et noter le code d'erreur"
   ]
  },
  {
   "cell_type": "code",
   "execution_count": null,
   "metadata": {},
   "outputs": [],
   "source": []
  },
  {
   "cell_type": "markdown",
   "metadata": {},
   "source": [
    "## 3. Utiliser les commandes de son système d'expoitation.\n",
    "\n",
    "Depuis le notebook jupyter, on peut lancer des commandes de son système d'exploitation en précédant les commandes de `!`.\n",
    "Les commandes dépendent du système d'exploitation.\n",
    "\n",
    "Linux : `ping` , `ifconfig`, `mtr`\n",
    "Windows  : `ping` , `ipconfig` , `tracert`\n"
   ]
  },
  {
   "cell_type": "markdown",
   "metadata": {},
   "source": [
    "1. A l'aide de la commande `ping`, déterminer le nombre de routeurs qui vous sépare de linux.org"
   ]
  },
  {
   "cell_type": "code",
   "execution_count": null,
   "metadata": {},
   "outputs": [],
   "source": []
  },
  {
   "cell_type": "markdown",
   "metadata": {},
   "source": [
    "2. A l'aide de la commande `ipconfig`, repérer votre adresse IP et celle de la passerelle "
   ]
  },
  {
   "cell_type": "code",
   "execution_count": null,
   "metadata": {},
   "outputs": [],
   "source": []
  },
  {
   "cell_type": "markdown",
   "metadata": {},
   "source": [
    "3. A l'aide de la commande `tracert`, retrouver les informations des 2 questions précédentes."
   ]
  },
  {
   "cell_type": "code",
   "execution_count": null,
   "metadata": {},
   "outputs": [],
   "source": []
  }
 ],
 "metadata": {
  "kernelspec": {
   "display_name": "Python 3",
   "language": "python",
   "name": "python3"
  },
  "language_info": {
   "codemirror_mode": {
    "name": "ipython",
    "version": 3
   },
   "file_extension": ".py",
   "mimetype": "text/x-python",
   "name": "python",
   "nbconvert_exporter": "python",
   "pygments_lexer": "ipython3",
   "version": "3.7.3"
  }
 },
 "nbformat": 4,
 "nbformat_minor": 2
}
