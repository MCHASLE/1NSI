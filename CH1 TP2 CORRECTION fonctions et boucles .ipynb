{
 "cells": [
  {
   "cell_type": "code",
   "execution_count": 3,
   "metadata": {},
   "outputs": [],
   "source": [
    "# Cellule à exécuter pour tester vos fonctions\n",
    "from exercises.NSI1 import *"
   ]
  },
  {
   "cell_type": "markdown",
   "metadata": {},
   "source": [
    "---\n",
    "# CHAPITRE 1 : Bases de PYTHON\n",
    "# TP 2 : Fonctions et boucles\n",
    "\n",
    "Attention, chaque fonction doit être implémentée avec les doctypes entre 3 guillements dans lesquels on précise les préconditions et les postconditions de la fonction\n",
    "\n",
    "---\n",
    "# 1. La fonction paire (*)\n",
    "\n",
    "Implémenter la fonction paire\n",
    "\n",
    "**paire : int -> bool**\n"
   ]
  },
  {
   "cell_type": "code",
   "execution_count": 4,
   "metadata": {},
   "outputs": [
    {
     "data": {
      "text/html": [
       "<table style='font-family:monospace;font-size:small;'><tr style='font-family:monospace;font-size:medium;'><th style='text-align: center;'><pre>Appel</pre></th><th style='text-align: center;'><pre>Resultat Attendu</pre></th></tr><tr><td><pre>paire(4)</pre></td><td style='text-align: left;border-left:3px solid gray;'><pre>\n",
       "True</pre></td></tr></table>"
      ],
      "text/plain": [
       "<IPython.core.display.HTML object>"
      ]
     },
     "execution_count": 4,
     "metadata": {},
     "output_type": "execute_result"
    }
   ],
   "source": [
    "exo_paire.example()"
   ]
  },
  {
   "cell_type": "code",
   "execution_count": 5,
   "metadata": {},
   "outputs": [],
   "source": [
    "#Saisir ici la fonction\n",
    "#def paire(n):\n",
    "def paire(n):\n",
    "    '''\n",
    "    Détermine si n est paire\n",
    "    entrée : n est un entier\n",
    "    sortie : booléen \n",
    "    '''\n",
    "    return n%2 == 0"
   ]
  },
  {
   "cell_type": "code",
   "execution_count": 6,
   "metadata": {},
   "outputs": [
    {
     "data": {
      "text/html": [
       "<table style='font-family:monospace;font-size:small;'><tr style='font-family:monospace;font-size:medium;'><th style='text-align: center;'><pre>Appel</pre></th><th style='text-align: center;'><pre>Attendu</pre></th><th style='text-align: center;'><pre>Obtenu</pre></th><th style='text-align: center;'><pre></pre></th></tr><tr style='background-color:#d6e9ce;border-bottom:2px solid gray;'><td><pre>paire(4)</pre></td><td style='text-align: left;border-left:3px solid gray;'><pre>\n",
       "True</pre></td><td style='text-align: left;border-left:1px solid gray;'><pre>\n",
       "True</pre></td><td style='border-left:3px solid gray;'><pre>OK</pre></td></tr><tr style='background-color:#d6e9ce;border-bottom:2px solid gray;'><td><pre>paire(1)</pre></td><td style='text-align: left;border-left:3px solid gray;'><pre>\n",
       "False</pre></td><td style='text-align: left;border-left:1px solid gray;'><pre>\n",
       "False</pre></td><td style='border-left:3px solid gray;'><pre>OK</pre></td></tr><tr style='background-color:#d6e9ce;border-bottom:2px solid gray;'><td><pre>paire(0)</pre></td><td style='text-align: left;border-left:3px solid gray;'><pre>\n",
       "True</pre></td><td style='text-align: left;border-left:1px solid gray;'><pre>\n",
       "True</pre></td><td style='border-left:3px solid gray;'><pre>OK</pre></td></tr><tr style='background-color:#d6e9ce;border-bottom:2px solid gray;'><td><pre>paire(7)</pre></td><td style='text-align: left;border-left:3px solid gray;'><pre>\n",
       "False</pre></td><td style='text-align: left;border-left:1px solid gray;'><pre>\n",
       "False</pre></td><td style='border-left:3px solid gray;'><pre>OK</pre></td></tr></table>"
      ],
      "text/plain": [
       "<IPython.core.display.HTML object>"
      ]
     },
     "execution_count": 6,
     "metadata": {},
     "output_type": "execute_result"
    }
   ],
   "source": [
    "# A exécuter pour tester votre fonction\n",
    "exo_paire.correction(paire)"
   ]
  },
  {
   "cell_type": "markdown",
   "metadata": {},
   "source": [
    "# 2. La fonction max (*)\n",
    "\n",
    "Ecrire la fonction max qui renvoi le maximum de deux nombres\n",
    "**max2: int\\*int -> int**\n",
    "(fonctionne aussi avec float)\n"
   ]
  },
  {
   "cell_type": "code",
   "execution_count": 7,
   "metadata": {},
   "outputs": [
    {
     "data": {
      "text/html": [
       "<table style='font-family:monospace;font-size:small;'><tr style='font-family:monospace;font-size:medium;'><th style='text-align: center;'><pre>Appel</pre></th><th style='text-align: center;'><pre>Resultat Attendu</pre></th></tr><tr><td><pre>max2(5, 7)</pre></td><td style='text-align: left;border-left:3px solid gray;'><pre>\n",
       "7</pre></td></tr></table>"
      ],
      "text/plain": [
       "<IPython.core.display.HTML object>"
      ]
     },
     "execution_count": 7,
     "metadata": {},
     "output_type": "execute_result"
    }
   ],
   "source": [
    "exo_max2.example()"
   ]
  },
  {
   "cell_type": "code",
   "execution_count": 8,
   "metadata": {},
   "outputs": [],
   "source": [
    "#saisissez votre fonction ici\n",
    "#def max2(a,b):\n",
    "def max2(a,b):\n",
    "    '''entree : a et b int ou float\n",
    "       sortie : le max de a et b\n",
    "    '''\n",
    "    if a>b:\n",
    "        return a\n",
    "    else:\n",
    "        return b"
   ]
  },
  {
   "cell_type": "code",
   "execution_count": 9,
   "metadata": {},
   "outputs": [
    {
     "data": {
      "text/html": [
       "<table style='font-family:monospace;font-size:small;'><tr style='font-family:monospace;font-size:medium;'><th style='text-align: center;'><pre>Appel</pre></th><th style='text-align: center;'><pre>Attendu</pre></th><th style='text-align: center;'><pre>Obtenu</pre></th><th style='text-align: center;'><pre></pre></th></tr><tr style='background-color:#d6e9ce;border-bottom:2px solid gray;'><td><pre>max2(5, 7)</pre></td><td style='text-align: left;border-left:3px solid gray;'><pre>\n",
       "7</pre></td><td style='text-align: left;border-left:1px solid gray;'><pre>\n",
       "7</pre></td><td style='border-left:3px solid gray;'><pre>OK</pre></td></tr><tr style='background-color:#d6e9ce;border-bottom:2px solid gray;'><td><pre>max2(3, 3)</pre></td><td style='text-align: left;border-left:3px solid gray;'><pre>\n",
       "3</pre></td><td style='text-align: left;border-left:1px solid gray;'><pre>\n",
       "3</pre></td><td style='border-left:3px solid gray;'><pre>OK</pre></td></tr><tr style='background-color:#d6e9ce;border-bottom:2px solid gray;'><td><pre>max2(10.3, 10.4)</pre></td><td style='text-align: left;border-left:3px solid gray;'><pre>\n",
       "10.4</pre></td><td style='text-align: left;border-left:1px solid gray;'><pre>\n",
       "10.4</pre></td><td style='border-left:3px solid gray;'><pre>OK</pre></td></tr></table>"
      ],
      "text/plain": [
       "<IPython.core.display.HTML object>"
      ]
     },
     "execution_count": 9,
     "metadata": {},
     "output_type": "execute_result"
    }
   ],
   "source": [
    "exo_max2.correction(max2)"
   ]
  },
  {
   "cell_type": "markdown",
   "metadata": {},
   "source": [
    "# 2 bis La fonction max (suite) (*)\n",
    "Il s'agit maintenant d'implémenter la fonction max4, qui donne le maximum de 4 éléments\n",
    "\n",
    "**max4: int\\*int\\*int\\*int -> int**\n",
    "\n",
    "astuce : utiliser la fonction max2 !"
   ]
  },
  {
   "cell_type": "code",
   "execution_count": 10,
   "metadata": {},
   "outputs": [
    {
     "data": {
      "text/html": [
       "<table style='font-family:monospace;font-size:small;'><tr style='font-family:monospace;font-size:medium;'><th style='text-align: center;'><pre>Appel</pre></th><th style='text-align: center;'><pre>Resultat Attendu</pre></th></tr><tr><td><pre>max4(5, 7, 2, 4)</pre></td><td style='text-align: left;border-left:3px solid gray;'><pre>\n",
       "7</pre></td></tr></table>"
      ],
      "text/plain": [
       "<IPython.core.display.HTML object>"
      ]
     },
     "execution_count": 10,
     "metadata": {},
     "output_type": "execute_result"
    }
   ],
   "source": [
    "exo_max4.example()"
   ]
  },
  {
   "cell_type": "code",
   "execution_count": 11,
   "metadata": {},
   "outputs": [],
   "source": [
    "#saisissez votre fonction ici\n",
    "#def max4(a,b):\n",
    "def max4(a,b,c,d):\n",
    "    '''entree : a b c et d int ou float\n",
    "       sortie : le max des 4\n",
    "    '''\n",
    "    return max(max2(a,b),max2(c,d))"
   ]
  },
  {
   "cell_type": "code",
   "execution_count": 12,
   "metadata": {},
   "outputs": [
    {
     "data": {
      "text/html": [
       "<table style='font-family:monospace;font-size:small;'><tr style='font-family:monospace;font-size:medium;'><th style='text-align: center;'><pre>Appel</pre></th><th style='text-align: center;'><pre>Attendu</pre></th><th style='text-align: center;'><pre>Obtenu</pre></th><th style='text-align: center;'><pre></pre></th></tr><tr style='background-color:#d6e9ce;border-bottom:2px solid gray;'><td><pre>max4(5, 7, 2, 4)</pre></td><td style='text-align: left;border-left:3px solid gray;'><pre>\n",
       "7</pre></td><td style='text-align: left;border-left:1px solid gray;'><pre>\n",
       "7</pre></td><td style='border-left:3px solid gray;'><pre>OK</pre></td></tr><tr style='background-color:#d6e9ce;border-bottom:2px solid gray;'><td><pre>max4(3, 3, 3, 3)</pre></td><td style='text-align: left;border-left:3px solid gray;'><pre>\n",
       "3</pre></td><td style='text-align: left;border-left:1px solid gray;'><pre>\n",
       "3</pre></td><td style='border-left:3px solid gray;'><pre>OK</pre></td></tr><tr style='background-color:#d6e9ce;border-bottom:2px solid gray;'><td><pre>max4(10.3, 10.4, 10, 10)</pre></td><td style='text-align: left;border-left:3px solid gray;'><pre>\n",
       "10.4</pre></td><td style='text-align: left;border-left:1px solid gray;'><pre>\n",
       "10.4</pre></td><td style='border-left:3px solid gray;'><pre>OK</pre></td></tr></table>"
      ],
      "text/plain": [
       "<IPython.core.display.HTML object>"
      ]
     },
     "execution_count": 12,
     "metadata": {},
     "output_type": "execute_result"
    }
   ],
   "source": [
    "exo_max4.correction(max4)"
   ]
  },
  {
   "cell_type": "markdown",
   "metadata": {},
   "source": [
    "---\n",
    "# 3. Exercice : La suite de Syracuse (**)\n",
    "\n",
    "Implémenter une fonction qui à partir d'un entier n non nul, génère la suite de Syracuse (voir internet).\n",
    "\n",
    "**syracuse: int -> list**\n",
    "\n",
    "Pour générer une liste vous avez besoin de deux instructions\n",
    "- l=[] crée une liste vide\n",
    "- l.append(x) ajoute le terme x en bout de list\n",
    "(voir exemple ci dessous)\n"
   ]
  },
  {
   "cell_type": "code",
   "execution_count": 13,
   "metadata": {},
   "outputs": [
    {
     "data": {
      "text/html": [
       "<table style='font-family:monospace;font-size:small;'><tr style='font-family:monospace;font-size:medium;'><th style='text-align: center;'><pre>Appel</pre></th><th style='text-align: center;'><pre>Resultat Attendu</pre></th></tr><tr><td><pre>syracuse(3)</pre></td><td style='text-align: left;border-left:3px solid gray;'><pre>\n",
       "[ 3,\n",
       "  10,\n",
       "  5,\n",
       "  16,\n",
       "  8,\n",
       "  4,\n",
       "  2,\n",
       "  1]</pre></td></tr></table>"
      ],
      "text/plain": [
       "<IPython.core.display.HTML object>"
      ]
     },
     "execution_count": 13,
     "metadata": {},
     "output_type": "execute_result"
    }
   ],
   "source": [
    "exo_syracuse.example()"
   ]
  },
  {
   "cell_type": "code",
   "execution_count": 14,
   "metadata": {},
   "outputs": [
    {
     "data": {
      "text/plain": [
       "[2, 7, 11]"
      ]
     },
     "execution_count": 14,
     "metadata": {},
     "output_type": "execute_result"
    }
   ],
   "source": [
    "#exemple de création de liste\n",
    "liste=[]\n",
    "liste.append(2)\n",
    "liste.append(7)\n",
    "liste.append(11)\n",
    "liste"
   ]
  },
  {
   "cell_type": "code",
   "execution_count": 15,
   "metadata": {},
   "outputs": [],
   "source": [
    "# Saisir ici la fonction\n",
    "#def syracuse(n):\n",
    "def syracuse(n):\n",
    "    '''\n",
    "    génère la suite de Syracuse\n",
    "    entrée : n est un entier > 0\n",
    "    sortie : suite de syracuse sous forme de liste\n",
    "    '''\n",
    "    l=[n]\n",
    "    while n>1:\n",
    "        if paire(n):\n",
    "            n=n//2\n",
    "        else:\n",
    "            n=3*n+1\n",
    "        l.append(n)\n",
    "    return l"
   ]
  },
  {
   "cell_type": "code",
   "execution_count": 16,
   "metadata": {},
   "outputs": [
    {
     "data": {
      "text/html": [
       "<table style='font-family:monospace;font-size:small;'><tr style='font-family:monospace;font-size:medium;'><th style='text-align: center;'><pre>Appel</pre></th><th style='text-align: center;'><pre>Attendu</pre></th><th style='text-align: center;'><pre>Obtenu</pre></th><th style='text-align: center;'><pre></pre></th></tr><tr style='background-color:#d6e9ce;border-bottom:2px solid gray;'><td><pre>syracuse(3)</pre></td><td style='text-align: left;border-left:3px solid gray;'><pre>\n",
       "[ 3,\n",
       "  10,\n",
       "  5,\n",
       "  16,\n",
       "  8,\n",
       "  4,\n",
       "  2,\n",
       "  1]</pre></td><td style='text-align: left;border-left:1px solid gray;'><pre>\n",
       "[ 3,\n",
       "  10,\n",
       "  5,\n",
       "  16,\n",
       "  8,\n",
       "  4,\n",
       "  2,\n",
       "  1]</pre></td><td style='border-left:3px solid gray;'><pre>OK</pre></td></tr><tr style='background-color:#d6e9ce;border-bottom:2px solid gray;'><td><pre>syracuse(1)</pre></td><td style='text-align: left;border-left:3px solid gray;'><pre>\n",
       "[1]</pre></td><td style='text-align: left;border-left:1px solid gray;'><pre>\n",
       "[1]</pre></td><td style='border-left:3px solid gray;'><pre>OK</pre></td></tr></table>"
      ],
      "text/plain": [
       "<IPython.core.display.HTML object>"
      ]
     },
     "execution_count": 16,
     "metadata": {},
     "output_type": "execute_result"
    }
   ],
   "source": [
    "exo_syracuse.correction(syracuse)"
   ]
  },
  {
   "cell_type": "markdown",
   "metadata": {},
   "source": [
    "---\n",
    "# 4. La fonction factorielle (**)\n",
    "n!=1 * 2 *  ... * n\n",
    "Implémenter la fonction factorielle pour n > 1\n",
    "**factorielle : int -> int**"
   ]
  },
  {
   "cell_type": "code",
   "execution_count": 17,
   "metadata": {},
   "outputs": [
    {
     "data": {
      "text/html": [
       "<table style='font-family:monospace;font-size:small;'><tr style='font-family:monospace;font-size:medium;'><th style='text-align: center;'><pre>Appel</pre></th><th style='text-align: center;'><pre>Resultat Attendu</pre></th></tr><tr><td><pre>factorielle(5)</pre></td><td style='text-align: left;border-left:3px solid gray;'><pre>\n",
       "120</pre></td></tr></table>"
      ],
      "text/plain": [
       "<IPython.core.display.HTML object>"
      ]
     },
     "execution_count": 17,
     "metadata": {},
     "output_type": "execute_result"
    }
   ],
   "source": [
    "exo_factorielle.example()"
   ]
  },
  {
   "cell_type": "code",
   "execution_count": 18,
   "metadata": {},
   "outputs": [],
   "source": [
    "#saisissez votre fonction\n",
    "#def factorielle(n):\n",
    "def factorielle(n):\n",
    "    ''' \n",
    "    entrée : n entier > 1\n",
    "    sortie : entier n!\n",
    "    '''\n",
    "    f = 1\n",
    "    for i in range(1,n+1):\n",
    "        f = f*i\n",
    "    return f\n"
   ]
  },
  {
   "cell_type": "code",
   "execution_count": 19,
   "metadata": {},
   "outputs": [
    {
     "data": {
      "text/html": [
       "<table style='font-family:monospace;font-size:small;'><tr style='font-family:monospace;font-size:medium;'><th style='text-align: center;'><pre>Appel</pre></th><th style='text-align: center;'><pre>Attendu</pre></th><th style='text-align: center;'><pre>Obtenu</pre></th><th style='text-align: center;'><pre></pre></th></tr><tr style='background-color:#d6e9ce;border-bottom:2px solid gray;'><td><pre>factorielle(5)</pre></td><td style='text-align: left;border-left:3px solid gray;'><pre>\n",
       "120</pre></td><td style='text-align: left;border-left:1px solid gray;'><pre>\n",
       "120</pre></td><td style='border-left:3px solid gray;'><pre>OK</pre></td></tr><tr style='background-color:#d6e9ce;border-bottom:2px solid gray;'><td><pre>factorielle(1)</pre></td><td style='text-align: left;border-left:3px solid gray;'><pre>\n",
       "1</pre></td><td style='text-align: left;border-left:1px solid gray;'><pre>\n",
       "1</pre></td><td style='border-left:3px solid gray;'><pre>OK</pre></td></tr><tr style='background-color:#d6e9ce;border-bottom:2px solid gray;'><td><pre>factorielle(2)</pre></td><td style='text-align: left;border-left:3px solid gray;'><pre>\n",
       "2</pre></td><td style='text-align: left;border-left:1px solid gray;'><pre>\n",
       "2</pre></td><td style='border-left:3px solid gray;'><pre>OK</pre></td></tr></table>"
      ],
      "text/plain": [
       "<IPython.core.display.HTML object>"
      ]
     },
     "execution_count": 19,
     "metadata": {},
     "output_type": "execute_result"
    }
   ],
   "source": [
    "exo_factorielle.correction(factorielle)"
   ]
  },
  {
   "cell_type": "markdown",
   "metadata": {},
   "source": [
    "---\n",
    "# 5. Somme des entiers (**)\n",
    "Implémenter la fonction somme des n premiers entiers \n",
    "\n",
    "**somme_entiers: int -> int**\n"
   ]
  },
  {
   "cell_type": "code",
   "execution_count": 20,
   "metadata": {},
   "outputs": [
    {
     "data": {
      "text/html": [
       "<table style='font-family:monospace;font-size:small;'><tr style='font-family:monospace;font-size:medium;'><th style='text-align: center;'><pre>Appel</pre></th><th style='text-align: center;'><pre>Resultat Attendu</pre></th></tr><tr><td><pre>somme_entiers(5)</pre></td><td style='text-align: left;border-left:3px solid gray;'><pre>\n",
       "15</pre></td></tr></table>"
      ],
      "text/plain": [
       "<IPython.core.display.HTML object>"
      ]
     },
     "execution_count": 20,
     "metadata": {},
     "output_type": "execute_result"
    }
   ],
   "source": [
    "exo_somme_entiers.example()"
   ]
  },
  {
   "cell_type": "code",
   "execution_count": 21,
   "metadata": {},
   "outputs": [],
   "source": [
    "#saisissez votre fonction\n",
    "#def somme_entiers(n):\n",
    "def somme_entiers(n):\n",
    "    ''' \n",
    "    entrée : n entier > 1\n",
    "    sortie : entier somme des n premiers entiers\n",
    "    '''\n",
    "    s = 0\n",
    "    for i in range(1,n+1):\n",
    "        s = s+i\n",
    "    return s"
   ]
  },
  {
   "cell_type": "code",
   "execution_count": 22,
   "metadata": {},
   "outputs": [
    {
     "data": {
      "text/html": [
       "<table style='font-family:monospace;font-size:small;'><tr style='font-family:monospace;font-size:medium;'><th style='text-align: center;'><pre>Appel</pre></th><th style='text-align: center;'><pre>Attendu</pre></th><th style='text-align: center;'><pre>Obtenu</pre></th><th style='text-align: center;'><pre></pre></th></tr><tr style='background-color:#d6e9ce;border-bottom:2px solid gray;'><td><pre>somme_entiers(5)</pre></td><td style='text-align: left;border-left:3px solid gray;'><pre>\n",
       "15</pre></td><td style='text-align: left;border-left:1px solid gray;'><pre>\n",
       "15</pre></td><td style='border-left:3px solid gray;'><pre>OK</pre></td></tr><tr style='background-color:#d6e9ce;border-bottom:2px solid gray;'><td><pre>somme_entiers(1)</pre></td><td style='text-align: left;border-left:3px solid gray;'><pre>\n",
       "1</pre></td><td style='text-align: left;border-left:1px solid gray;'><pre>\n",
       "1</pre></td><td style='border-left:3px solid gray;'><pre>OK</pre></td></tr><tr style='background-color:#d6e9ce;border-bottom:2px solid gray;'><td><pre>somme_entiers(100)</pre></td><td style='text-align: left;border-left:3px solid gray;'><pre>\n",
       "5050</pre></td><td style='text-align: left;border-left:1px solid gray;'><pre>\n",
       "5050</pre></td><td style='border-left:3px solid gray;'><pre>OK</pre></td></tr></table>"
      ],
      "text/plain": [
       "<IPython.core.display.HTML object>"
      ]
     },
     "execution_count": 22,
     "metadata": {},
     "output_type": "execute_result"
    }
   ],
   "source": [
    "exo_somme_entiers.correction(somme_entiers)"
   ]
  },
  {
   "cell_type": "markdown",
   "metadata": {},
   "source": [
    "---\n",
    "\n",
    "# 5 bis Somme des entiers impairs (**)\n",
    "\n",
    "Est-il vrai que toute somme des premiers entiers impairs est toujours un carré ?\n",
    "ex : 1 + 3 + 5 = 9\n",
    "\n",
    "Implémenter la fonction somme_impairs qui calcule la somme des n premiers impairs.\n",
    "\n",
    "Astuce : m impair peut toujours s'écrire sous la forme 2*n+1 ou n est un entier\n",
    "\n",
    "**somme_impairs:int -> int**"
   ]
  },
  {
   "cell_type": "code",
   "execution_count": 23,
   "metadata": {},
   "outputs": [
    {
     "data": {
      "text/html": [
       "<table style='font-family:monospace;font-size:small;'><tr style='font-family:monospace;font-size:medium;'><th style='text-align: center;'><pre>Appel</pre></th><th style='text-align: center;'><pre>Resultat Attendu</pre></th></tr><tr><td><pre>somme_impairs(3)</pre></td><td style='text-align: left;border-left:3px solid gray;'><pre>\n",
       "9</pre></td></tr></table>"
      ],
      "text/plain": [
       "<IPython.core.display.HTML object>"
      ]
     },
     "execution_count": 23,
     "metadata": {},
     "output_type": "execute_result"
    }
   ],
   "source": [
    "exo_somme_impairs.example()"
   ]
  },
  {
   "cell_type": "code",
   "execution_count": 24,
   "metadata": {},
   "outputs": [],
   "source": [
    "#saisissez votre fonction\n",
    "#def somme_impairs(n):\n",
    "def somme_impairs(n):\n",
    "    ''' \n",
    "    entrée : n entier > 1\n",
    "    sortie : entier somme des n premiers entiers impairs\n",
    "    '''\n",
    "    s = 0\n",
    "    for i in range(0,n):\n",
    "        s += 2*i+1\n",
    "    return s"
   ]
  },
  {
   "cell_type": "code",
   "execution_count": 25,
   "metadata": {},
   "outputs": [
    {
     "data": {
      "text/html": [
       "<table style='font-family:monospace;font-size:small;'><tr style='font-family:monospace;font-size:medium;'><th style='text-align: center;'><pre>Appel</pre></th><th style='text-align: center;'><pre>Attendu</pre></th><th style='text-align: center;'><pre>Obtenu</pre></th><th style='text-align: center;'><pre></pre></th></tr><tr style='background-color:#d6e9ce;border-bottom:2px solid gray;'><td><pre>somme_impairs(3)</pre></td><td style='text-align: left;border-left:3px solid gray;'><pre>\n",
       "9</pre></td><td style='text-align: left;border-left:1px solid gray;'><pre>\n",
       "9</pre></td><td style='border-left:3px solid gray;'><pre>OK</pre></td></tr><tr style='background-color:#d6e9ce;border-bottom:2px solid gray;'><td><pre>somme_impairs(1)</pre></td><td style='text-align: left;border-left:3px solid gray;'><pre>\n",
       "1</pre></td><td style='text-align: left;border-left:1px solid gray;'><pre>\n",
       "1</pre></td><td style='border-left:3px solid gray;'><pre>OK</pre></td></tr><tr style='background-color:#d6e9ce;border-bottom:2px solid gray;'><td><pre>somme_impairs(7)</pre></td><td style='text-align: left;border-left:3px solid gray;'><pre>\n",
       "49</pre></td><td style='text-align: left;border-left:1px solid gray;'><pre>\n",
       "49</pre></td><td style='border-left:3px solid gray;'><pre>OK</pre></td></tr></table>"
      ],
      "text/plain": [
       "<IPython.core.display.HTML object>"
      ]
     },
     "execution_count": 25,
     "metadata": {},
     "output_type": "execute_result"
    }
   ],
   "source": [
    "exo_somme_impairs.correction(somme_impairs)"
   ]
  },
  {
   "cell_type": "markdown",
   "metadata": {},
   "source": [
    "---\n",
    "# 6. Somme des inverses (***)\n",
    "Existe-t-il un entier m tel que ${1\\over 1} + {1\\over 2}+ {1\\over 3} + ... + {1\\over m} > n$.\n",
    "Ecrire la fonction somme_inverse(n) qui retourne un tel entier.\n",
    "\n",
    "**somme_inverses : int -> int**"
   ]
  },
  {
   "cell_type": "code",
   "execution_count": 26,
   "metadata": {},
   "outputs": [
    {
     "data": {
      "text/html": [
       "<table style='font-family:monospace;font-size:small;'><tr style='font-family:monospace;font-size:medium;'><th style='text-align: center;'><pre>Appel</pre></th><th style='text-align: center;'><pre>Resultat Attendu</pre></th></tr><tr><td><pre>somme_inverses(5)</pre></td><td style='text-align: left;border-left:3px solid gray;'><pre>\n",
       "83</pre></td></tr></table>"
      ],
      "text/plain": [
       "<IPython.core.display.HTML object>"
      ]
     },
     "execution_count": 26,
     "metadata": {},
     "output_type": "execute_result"
    }
   ],
   "source": [
    "exo_somme_inverses.example()"
   ]
  },
  {
   "cell_type": "code",
   "execution_count": 27,
   "metadata": {},
   "outputs": [],
   "source": [
    "#saisir ici votre fonction\n",
    "# def somme_inverses(n):\n",
    "def somme_inverses(n):\n",
    "    ''' Entree : n entier(ou reel)\n",
    "        sortie : m entier tel que la somme des m premiers inverses > n\n",
    "    '''\n",
    "    s=0\n",
    "    m=1\n",
    "    while s<=n:\n",
    "        s+=1/m\n",
    "        m+=1\n",
    "    return m-1"
   ]
  },
  {
   "cell_type": "code",
   "execution_count": 28,
   "metadata": {},
   "outputs": [
    {
     "data": {
      "text/html": [
       "<table style='font-family:monospace;font-size:small;'><tr style='font-family:monospace;font-size:medium;'><th style='text-align: center;'><pre>Appel</pre></th><th style='text-align: center;'><pre>Attendu</pre></th><th style='text-align: center;'><pre>Obtenu</pre></th><th style='text-align: center;'><pre></pre></th></tr><tr style='background-color:#d6e9ce;border-bottom:2px solid gray;'><td><pre>somme_inverses(5)</pre></td><td style='text-align: left;border-left:3px solid gray;'><pre>\n",
       "83</pre></td><td style='text-align: left;border-left:1px solid gray;'><pre>\n",
       "83</pre></td><td style='border-left:3px solid gray;'><pre>OK</pre></td></tr><tr style='background-color:#d6e9ce;border-bottom:2px solid gray;'><td><pre>somme_inverses(1)</pre></td><td style='text-align: left;border-left:3px solid gray;'><pre>\n",
       "2</pre></td><td style='text-align: left;border-left:1px solid gray;'><pre>\n",
       "2</pre></td><td style='border-left:3px solid gray;'><pre>OK</pre></td></tr><tr style='background-color:#d6e9ce;border-bottom:2px solid gray;'><td><pre>somme_inverses(10)</pre></td><td style='text-align: left;border-left:3px solid gray;'><pre>\n",
       "12367</pre></td><td style='text-align: left;border-left:1px solid gray;'><pre>\n",
       "12367</pre></td><td style='border-left:3px solid gray;'><pre>OK</pre></td></tr></table>"
      ],
      "text/plain": [
       "<IPython.core.display.HTML object>"
      ]
     },
     "execution_count": 28,
     "metadata": {},
     "output_type": "execute_result"
    }
   ],
   "source": [
    "exo_somme_inverses.correction(somme_inverses)"
   ]
  },
  {
   "cell_type": "markdown",
   "metadata": {},
   "source": [
    "---\n",
    "\n",
    "# 7. Approximation de pi ( *** )\n",
    "La série de Madhava-Leibniz converge vers pi. Elle permet de calculer les décimales de pi.\n",
    "\n",
    "$\\pi =4 \\times \\left( 1-{1\\over 3}+{1\\over 5}-{1\\over 7}+{1\\over 9}-{1\\over 11}+{1\\over 13}-\\cdots \\right)$\n",
    "\n",
    "Implémenter la fonction pi(n) qui calcule une approximation de pi après n itérations de la série.\n",
    "\n",
    "**pi: int -> float**"
   ]
  },
  {
   "cell_type": "code",
   "execution_count": 29,
   "metadata": {},
   "outputs": [],
   "source": [
    "#saisissez la fonction ici\n",
    "#def mahdava_pi(n):\n",
    "\n",
    "def madhava_pi(n):\n",
    "    '''\n",
    "       entree : n entier > 0\n",
    "       sortie : approx de pi\n",
    "       '''\n",
    "    s=0\n",
    "    for i in range(n):\n",
    "        s= s+(-1)**i/(2*i+1)\n",
    "    return 4*s"
   ]
  },
  {
   "cell_type": "code",
   "execution_count": 30,
   "metadata": {},
   "outputs": [
    {
     "data": {
      "text/html": [
       "<table style='font-family:monospace;font-size:small;'><tr style='font-family:monospace;font-size:medium;'><th style='text-align: center;'><pre>Appel</pre></th><th style='text-align: center;'><pre>Resultat Attendu</pre></th></tr><tr><td><pre>madhava_pi(100)</pre></td><td style='text-align: left;border-left:3px solid gray;'><pre>\n",
       "3.1315929035585537</pre></td></tr></table>"
      ],
      "text/plain": [
       "<IPython.core.display.HTML object>"
      ]
     },
     "execution_count": 30,
     "metadata": {},
     "output_type": "execute_result"
    }
   ],
   "source": [
    "exo_madhava_pi.example()"
   ]
  },
  {
   "cell_type": "code",
   "execution_count": 31,
   "metadata": {},
   "outputs": [
    {
     "data": {
      "text/html": [
       "<table style='font-family:monospace;font-size:small;'><tr style='font-family:monospace;font-size:medium;'><th style='text-align: center;'><pre>Appel</pre></th><th style='text-align: center;'><pre>Attendu</pre></th><th style='text-align: center;'><pre>Obtenu</pre></th><th style='text-align: center;'><pre></pre></th></tr><tr style='background-color:#d6e9ce;border-bottom:2px solid gray;'><td><pre>madhava_pi(100)</pre></td><td style='text-align: left;border-left:3px solid gray;'><pre>\n",
       "3.1315929035585537</pre></td><td style='text-align: left;border-left:1px solid gray;'><pre>\n",
       "3.1315929035585537</pre></td><td style='border-left:3px solid gray;'><pre>OK</pre></td></tr><tr style='background-color:#d6e9ce;border-bottom:2px solid gray;'><td><pre>madhava_pi(1)</pre></td><td style='text-align: left;border-left:3px solid gray;'><pre>\n",
       "4.0</pre></td><td style='text-align: left;border-left:1px solid gray;'><pre>\n",
       "4.0</pre></td><td style='border-left:3px solid gray;'><pre>OK</pre></td></tr><tr style='background-color:#d6e9ce;border-bottom:2px solid gray;'><td><pre>madhava_pi(1000)</pre></td><td style='text-align: left;border-left:3px solid gray;'><pre>\n",
       "3.140592653839794</pre></td><td style='text-align: left;border-left:1px solid gray;'><pre>\n",
       "3.140592653839794</pre></td><td style='border-left:3px solid gray;'><pre>OK</pre></td></tr></table>"
      ],
      "text/plain": [
       "<IPython.core.display.HTML object>"
      ]
     },
     "execution_count": 31,
     "metadata": {},
     "output_type": "execute_result"
    }
   ],
   "source": [
    "exo_madhava_pi.correction(madhava_pi)"
   ]
  },
  {
   "cell_type": "code",
   "execution_count": null,
   "metadata": {},
   "outputs": [],
   "source": []
  }
 ],
 "metadata": {
  "kernelspec": {
   "display_name": "Python 3",
   "language": "python",
   "name": "python3"
  },
  "language_info": {
   "codemirror_mode": {
    "name": "ipython",
    "version": 3
   },
   "file_extension": ".py",
   "mimetype": "text/x-python",
   "name": "python",
   "nbconvert_exporter": "python",
   "pygments_lexer": "ipython3",
   "version": "3.7.1"
  }
 },
 "nbformat": 4,
 "nbformat_minor": 2
}
