{
 "cells": [
  {
   "cell_type": "markdown",
   "metadata": {},
   "source": [
    "# CH 6 - TP Exploiter les données en grand nombre  \n",
    "\n",
    "Il est très facile de trouver sur Internet des données partagées en grand nombre (Opendata).\n",
    "Ces données sont très souvent stockées dans des fichiers `.csv` (comma-separated values).\n",
    "\n",
    "Le but de ce TP est d'exploiter ces données, qui sont reprises dans Python sous la forme de tableaux de dictionnaires partageant les mêmes clés.\n",
    "\n",
    "## PARTIE 1 : lecture d'un fichier .csv\n",
    "\n",
    "Observez le code ci-dessous. La fonction `open` permet d'ouvrir un fichier. \n",
    "\n",
    "`for index,ligne in enumerate(csv_file):` permet de parcourir une à une les lignes du fichier en conservant dans `index` le numéro de ligne et dans `ligne` le contenu.\n",
    "\n",
    "Les lignes sont ensuite \"découpées\" sous la forme de listes grâce à la très précieuse instruction `ligne.strip().split(',')` qui prend en compte que le séparateur est la virgule.\n"
   ]
  },
  {
   "cell_type": "code",
   "execution_count": null,
   "metadata": {},
   "outputs": [],
   "source": [
    "def lire_fichier_csv(path):\n",
    "    '''str -> list\n",
    "       retourne une liste de dictionnaires partageant les mêmes descripteurs\n",
    "       issus du fichier csv dont le chemin est donné par path\n",
    "       le fichier csv doit contenir une première ligne avec les descripteurs\n",
    "    '''\n",
    "    csv_file = open(path, \"r\") \n",
    "    liste = [] # creation de la liste  \n",
    "    for index,ligne in enumerate(csv_file):\n",
    "        if index == 0:\n",
    "            # récuperation de la liste des descripteurs sur la premiere ligne\n",
    "            descripteurs = ligne.strip().split(',')\n",
    "        else:\n",
    "            # nouvel enregistrement\n",
    "            enregistrement={}\n",
    "            donnees = ligne.strip().split(',')     \n",
    "            for descripteur,donnee in zip(descripteurs,donnees):\n",
    "                enregistrement[descripteur]=donnee\n",
    "            # l'enregistrement est ajouté à la liste\n",
    "            liste.append(enregistrement)    \n",
    "    csv_file.close()\n",
    "    return liste"
   ]
  },
  {
   "cell_type": "markdown",
   "metadata": {},
   "source": [
    "### Exemple :  Les passagers du Titanic\n",
    "\n",
    "Nous allons utiliser la fonction ci-dessus pour exploiter les données sur les passagers du Titanic stockées dans le fichier `titanic.csv`.\n",
    "Nous allons :\n",
    "- Constater le nombre d'enregistrements\n",
    "- consulter les informations concernant le premier passager de la liste\n",
    "- obtenir le nombre de survivants par un parcours de la liste "
   ]
  },
  {
   "cell_type": "code",
   "execution_count": null,
   "metadata": {},
   "outputs": [],
   "source": [
    "# 1 chargement du fichier\n",
    "maliste = lire_fichier_csv('./titanic.csv')"
   ]
  },
  {
   "cell_type": "code",
   "execution_count": null,
   "metadata": {},
   "outputs": [],
   "source": [
    "# Combien d'enregistements ?\n",
    "print(len(maliste))"
   ]
  },
  {
   "cell_type": "code",
   "execution_count": null,
   "metadata": {},
   "outputs": [],
   "source": [
    "# le premier de la liste (observez qu'on obtient un enregistrement)\n",
    "print(maliste[0])"
   ]
  },
  {
   "cell_type": "code",
   "execution_count": null,
   "metadata": {},
   "outputs": [],
   "source": [
    "# Combien de survuvants \n",
    "nbsurvivants=0\n",
    "for passager in maliste: #passager est un dictionnaire\n",
    "    if passager['Survived']=='1':\n",
    "        nbsurvivants+=1\n",
    "print(f\"on recense {nbsurvivants} survivants.\")"
   ]
  },
  {
   "cell_type": "markdown",
   "metadata": {},
   "source": [
    "## EXERCICE 1 : Les communes de France  \n",
    "\n",
    "Nous disposons d'un fichier `communes.csv` qui recense les quelques 36000 communes de France. \n",
    "En utilisant le modus operandi de l'exemple précédent, répondre aux questions suivantes."
   ]
  },
  {
   "cell_type": "markdown",
   "metadata": {},
   "source": [
    "### 1.1. Lister les descripteurs de ce fichier"
   ]
  },
  {
   "cell_type": "code",
   "execution_count": null,
   "metadata": {},
   "outputs": [],
   "source": []
  },
  {
   "cell_type": "markdown",
   "metadata": {},
   "source": [
    "### 1.2 Combien de communes sont recensées dans ce tableau ?"
   ]
  },
  {
   "cell_type": "code",
   "execution_count": null,
   "metadata": {},
   "outputs": [],
   "source": []
  },
  {
   "cell_type": "markdown",
   "metadata": {},
   "source": [
    "### 1.3 Quelle est la commune la plus haute de France ?"
   ]
  },
  {
   "cell_type": "code",
   "execution_count": null,
   "metadata": {},
   "outputs": [],
   "source": []
  },
  {
   "cell_type": "markdown",
   "metadata": {},
   "source": [
    "### 1.4 Si on considère qu'un village fait moins de 2000 habitants. Combien y a-t-il de villages en France ? "
   ]
  },
  {
   "cell_type": "code",
   "execution_count": null,
   "metadata": {},
   "outputs": [],
   "source": []
  },
  {
   "cell_type": "markdown",
   "metadata": {},
   "source": [
    "## PARTIE 2 - Récupérer des données sur Internet\n",
    "\n",
    "Il s'agit là aussi de récupérer un fichier `.csv`, mais il se situe sur internet (via une url). \n",
    "Le gros avantage ici, c'est qu'on peut accéder à des données actualisées en temps réel.\n",
    "\n",
    "On utilise le module `request` qui permet d'effectuer une requète `http` sur une url via la commande :\n",
    "` csvfile = requests.get(url)`. Une fois les données récupérées et converties de binaire en texte, c'est le même traitement que précédemment."
   ]
  },
  {
   "cell_type": "code",
   "execution_count": null,
   "metadata": {},
   "outputs": [],
   "source": [
    "def telecharger_csv(url):\n",
    "    '''str -> list\n",
    "       retourne une liste de dictionnaires partageant les mêmes descripteurs\n",
    "       issus du fichier csv dont l'url est donné par url\n",
    "       le fichier csv doit contenir une première ligne avec les descripteurs\n",
    "    '''\n",
    "    import requests\n",
    "    csvfile = requests.get(url)\n",
    "    csvfile=csvfile.text #les données sont binaires, elles sont converties en str\n",
    "    lignes = csvfile.split('\\n') #création d'une liste de lignes\n",
    "    descripteurs=lignes[0].split(',') #liste des descripteurs\n",
    "    liste=[]\n",
    "    for ligne in lignes[1:-1]: #premiere et derniere ligne enlevees\n",
    "        donnees=str(ligne).strip().split(',')\n",
    "        enregistrement={} \n",
    "        for descripteur,donnee in zip(descripteurs,donnees): #parcours simultané de 2 listes\n",
    "            enregistrement[descripteur]=donnee #données dans le dictionnaire\n",
    "        liste.append(enregistrement) #on ajoute notre enregistrement à la liste\n",
    "    return liste\n"
   ]
  },
  {
   "cell_type": "markdown",
   "metadata": {},
   "source": [
    " ## Exercice 2\n",
    " \n",
    " Nous allons télécharger la liste des tremblements de Terre recensés ces derniers mois dans le monde."
   ]
  },
  {
   "cell_type": "code",
   "execution_count": null,
   "metadata": {},
   "outputs": [],
   "source": [
    "maliste=telecharger_csv('http://earthquake.usgs.gov/earthquakes/feed/v1.0/summary/4.5_month.csv')"
   ]
  },
  {
   "cell_type": "markdown",
   "metadata": {},
   "source": [
    "### 2.1 Lister les descripteurs de ce fichier"
   ]
  },
  {
   "cell_type": "code",
   "execution_count": null,
   "metadata": {},
   "outputs": [],
   "source": []
  },
  {
   "cell_type": "markdown",
   "metadata": {},
   "source": [
    "### 2.2 Soit  m une magnétude (l'échelle de Richter va jusqu'à 9).\n",
    "Etablir la liste des tremblements de terre de magnétude >n. \n",
    "On affichera un résumé des informations (lieu, quel jour ? ...)\n",
    "Effectuer plusieurs essais avec m=8 ou 7 ..."
   ]
  },
  {
   "cell_type": "code",
   "execution_count": null,
   "metadata": {},
   "outputs": [],
   "source": []
  },
  {
   "cell_type": "markdown",
   "metadata": {},
   "source": [
    "## PARTIE 3 : Création d'une carte avec folium "
   ]
  },
  {
   "cell_type": "markdown",
   "metadata": {},
   "source": [
    "La bibliothèque folium permet de créer des cartes openstreetmap. Elle n'est pas en natif dans Anaconda, il faut l'installer une fois pour toutes pour chaque ordinateur:"
   ]
  },
  {
   "cell_type": "markdown",
   "metadata": {},
   "source": [
    " à n'exécuter qu'une fois par ordinateur sur le prompt Anaconda\n",
    " \n",
    "`set 'https_proxy' = https://10.0.0.1:3128` # proxy du Lycée Simone Weil\n",
    "\n",
    "`pip install folium`"
   ]
  },
  {
   "cell_type": "code",
   "execution_count": 2,
   "metadata": {},
   "outputs": [],
   "source": [
    "# importation du module Folium dans ce notebook\n",
    "import folium"
   ]
  },
  {
   "cell_type": "markdown",
   "metadata": {},
   "source": [
    "Analysez le code suivant :\n",
    "- ligne 1 : On crée une carte avec la fonction `folium.Map` avec une localisation de départ et un niveau de zoom \n",
    "- ligne 2 : on place un marqueur en précisant la localisation et un message en pop-up\n",
    "- ligne 3 : on place un disque en précisant la localisation, le rayon en m, la couleur\n",
    "- ligne 4 : la carte est sauvegardée"
   ]
  },
  {
   "cell_type": "code",
   "execution_count": null,
   "metadata": {},
   "outputs": [],
   "source": [
    "c= folium.Map(location=[48.8,2.3],zoom_start=12)#zoom : 5=continent; 15=ville ; 10 = region\n",
    "folium.Marker([48.85,  2.34],popup=\"Mon endroit\").add_to(c)\n",
    "folium.Circle([48.8,  2.6],popup=\"ma bulle\",radius = 1000,color='crimson',fill=True,fill_color='crimson').add_to(c)\n",
    "c.save('./maCarte.html')"
   ]
  },
  {
   "cell_type": "code",
   "execution_count": null,
   "metadata": {},
   "outputs": [],
   "source": [
    "#pour ouvrir un onglet directement dans le navigateur\n",
    "import webbrowser\n",
    "webbrowser.open('./maCarte.html')"
   ]
  },
  {
   "cell_type": "markdown",
   "metadata": {},
   "source": [
    "## EXERCICE 3 : Réaliser une carte du monde localisant les derniers gros tremblements de terre. Ceux-ci sont représentés par des disques dont le rayon indique la magnétude\n",
    "\n",
    "(on peut aussi améliorer en jouant sur les couleurs etc ... )"
   ]
  },
  {
   "cell_type": "code",
   "execution_count": null,
   "metadata": {},
   "outputs": [],
   "source": []
  }
 ],
 "metadata": {
  "kernelspec": {
   "display_name": "Python 3",
   "language": "python",
   "name": "python3"
  },
  "language_info": {
   "codemirror_mode": {
    "name": "ipython",
    "version": 3
   },
   "file_extension": ".py",
   "mimetype": "text/x-python",
   "name": "python",
   "nbconvert_exporter": "python",
   "pygments_lexer": "ipython3",
   "version": "3.7.3"
  }
 },
 "nbformat": 4,
 "nbformat_minor": 2
}
