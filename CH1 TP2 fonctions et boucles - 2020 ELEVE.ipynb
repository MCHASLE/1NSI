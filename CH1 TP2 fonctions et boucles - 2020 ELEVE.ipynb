{
 "cells": [
  {
   "cell_type": "markdown",
   "metadata": {},
   "source": [
    "---\n",
    "# CHAPITRE 1 : Bases de PYTHON\n",
    "# TP 2 : Fonctions et boucles - ELEVE\n",
    "\n",
    "Attention, chaque fonction doit être implémentée avec les doctypes entre 3 guillements dans lesquels on précise les préconditions et les postconditions de la fonction\n",
    "\n",
    "---\n",
    "# 1. La fonction paire (*)\n",
    "\n",
    "Implémenter la fonction paire\n",
    "\n",
    "**paire : int -> bool**"
   ]
  },
  {
   "cell_type": "code",
   "execution_count": 13,
   "metadata": {},
   "outputs": [],
   "source": [
    "# saisissez ici votre fonction"
   ]
  },
  {
   "cell_type": "code",
   "execution_count": 12,
   "metadata": {},
   "outputs": [],
   "source": [
    "# jeu de tests\n",
    "assert paire(7)==False\n",
    "assert paire(8)==True"
   ]
  },
  {
   "cell_type": "markdown",
   "metadata": {},
   "source": [
    "# 2. La fonction max (*)\n",
    "\n",
    "Ecrire la fonction max qui renvoi le maximum de deux nombres\n",
    "\n",
    "**max2: int\\*int -> int**\n",
    "(fonctionne aussi avec float)\n"
   ]
  },
  {
   "cell_type": "code",
   "execution_count": 15,
   "metadata": {},
   "outputs": [],
   "source": [
    "# saisissez ici votre fonction"
   ]
  },
  {
   "cell_type": "code",
   "execution_count": 16,
   "metadata": {},
   "outputs": [],
   "source": [
    "# jeu de tests\n",
    "assert max2(5,7)==7\n",
    "assert max2(3,3) == 3\n",
    "assert max2(10.3,10.4) == 10.4"
   ]
  },
  {
   "cell_type": "markdown",
   "metadata": {},
   "source": [
    "# 2 bis La fonction max (suite) (*)\n",
    "Il s'agit maintenant d'implémenter la fonction max4, qui donne le maximum de 4 éléments\n",
    "\n",
    "**max4: int\\*int\\*int\\*int -> int**\n",
    "\n",
    "astuce : utiliser la fonction max2 !"
   ]
  },
  {
   "cell_type": "code",
   "execution_count": 18,
   "metadata": {},
   "outputs": [],
   "source": [
    "# saisissez ici votre fonction"
   ]
  },
  {
   "cell_type": "code",
   "execution_count": 23,
   "metadata": {},
   "outputs": [],
   "source": [
    "# jeu de tests\n",
    "assert max4(5,7,2,4)==7\n",
    "assert max4(3,3,3,3)==3\n",
    "assert max4(5,3,5,3)==5"
   ]
  },
  {
   "cell_type": "markdown",
   "metadata": {},
   "source": [
    "---\n",
    "# 3. Exercice : La suite de Syracuse (**)\n",
    "\n",
    "Implémenter une fonction qui à partir d'un entier n non nul, génère la suite de Syracuse (voir internet).\n",
    "\n",
    "**syracuse: int -> list**\n",
    "\n",
    "Pour générer une liste vous avez besoin de deux instructions\n",
    "- l=[] crée une liste vide\n",
    "- l.append(x) ajoute le terme x en bout de list\n",
    "(voir exemple ci dessous)\n"
   ]
  },
  {
   "cell_type": "code",
   "execution_count": 12,
   "metadata": {},
   "outputs": [
    {
     "data": {
      "text/plain": [
       "[2, 7, 11]"
      ]
     },
     "execution_count": 12,
     "metadata": {},
     "output_type": "execute_result"
    }
   ],
   "source": [
    "#exemple de création de liste\n",
    "liste=[]\n",
    "liste.append(2)\n",
    "liste.append(7)\n",
    "liste.append(11)\n",
    "liste"
   ]
  },
  {
   "cell_type": "code",
   "execution_count": 24,
   "metadata": {},
   "outputs": [],
   "source": [
    "# saisissez ici votre fonction"
   ]
  },
  {
   "cell_type": "code",
   "execution_count": 25,
   "metadata": {},
   "outputs": [],
   "source": [
    "# jeu de test\n",
    "assert syracuse(3)== [3,10,5,16,8,4,2,1]"
   ]
  },
  {
   "cell_type": "markdown",
   "metadata": {},
   "source": [
    "---\n",
    "# 4. La fonction factorielle (**)\n",
    "n!=1 * 2 *  ... * n\n",
    "Implémenter la fonction factorielle pour n > 1\n",
    "**factorielle : int -> int**"
   ]
  },
  {
   "cell_type": "code",
   "execution_count": 27,
   "metadata": {},
   "outputs": [],
   "source": [
    "# saisissez ici votre fonction\n"
   ]
  },
  {
   "cell_type": "code",
   "execution_count": 28,
   "metadata": {},
   "outputs": [],
   "source": [
    "# jeu de tests\n",
    "assert factorielle(5)==120\n",
    "assert factorielle(1)==1\n",
    "assert factorielle(2)==2"
   ]
  },
  {
   "cell_type": "markdown",
   "metadata": {},
   "source": [
    "---\n",
    "# 5. Somme des entiers (**)\n",
    "Implémenter la fonction somme des n premiers entiers \n",
    "\n",
    "**somme_entiers: int -> int**\n"
   ]
  },
  {
   "cell_type": "code",
   "execution_count": 30,
   "metadata": {},
   "outputs": [],
   "source": [
    "# saisissez ici votre fonction"
   ]
  },
  {
   "cell_type": "code",
   "execution_count": 31,
   "metadata": {},
   "outputs": [],
   "source": [
    "#jeu de tests\n",
    "assert somme_entiers(5)==15\n",
    "assert somme_entiers(1)==1\n",
    "assert somme_entiers(100)==5050"
   ]
  },
  {
   "cell_type": "markdown",
   "metadata": {},
   "source": [
    "---\n",
    "\n",
    "# 5 bis Somme des entiers impairs (**)\n",
    "\n",
    "Est-il vrai que toute somme des premiers entiers impairs est toujours un carré ?\n",
    "ex : 1 + 3 + 5 = 9\n",
    "\n",
    "Implémenter la fonction somme_impairs qui calcule la somme des n premiers impairs.\n",
    "\n",
    "Astuce : m impair peut toujours s'écrire sous la forme 2*n+1 ou n est un entier\n",
    "\n",
    "**somme_impairs:int -> int**"
   ]
  },
  {
   "cell_type": "code",
   "execution_count": 32,
   "metadata": {},
   "outputs": [],
   "source": [
    "# saisissez ici votre fonction"
   ]
  },
  {
   "cell_type": "code",
   "execution_count": 33,
   "metadata": {},
   "outputs": [],
   "source": [
    "# jeu de tests\n",
    "assert somme_impairs(3)==9\n",
    "assert somme_impairs(1)==1\n",
    "assert somme_impairs(7)==49"
   ]
  },
  {
   "cell_type": "markdown",
   "metadata": {},
   "source": [
    "---\n",
    "# 6. Somme des inverses (***)\n",
    "Existe-t-il un entier m tel que ${1\\over 1} + {1\\over 2}+ {1\\over 3} + ... + {1\\over m} > n$.\n",
    "Ecrire la fonction somme_inverse(n) qui retourne un tel entier.\n",
    "\n",
    "**somme_inverses : int -> int**"
   ]
  },
  {
   "cell_type": "code",
   "execution_count": 35,
   "metadata": {},
   "outputs": [],
   "source": [
    "# saisissez ici votre fonction"
   ]
  },
  {
   "cell_type": "code",
   "execution_count": 36,
   "metadata": {},
   "outputs": [],
   "source": [
    "# jeu de tests\n",
    "assert somme_inverses(5)==83 # avec la somme des  83 premiers inverses on dépasse 5\n",
    "assert somme_inverses(1)==2\n",
    "assert somme_inverses(10)==12367"
   ]
  },
  {
   "cell_type": "markdown",
   "metadata": {},
   "source": [
    "---\n",
    "\n",
    "# 7. Approximation de pi ( *** )\n",
    "La série de Madhava-Leibniz converge vers pi. Elle permet de calculer les décimales de pi.\n",
    "\n",
    "$\\pi =4 \\times \\left( 1-{1\\over 3}+{1\\over 5}-{1\\over 7}+{1\\over 9}-{1\\over 11}+{1\\over 13}-\\cdots \\right)$\n",
    "\n",
    "Implémenter la fonction pi(n) qui calcule une approximation de pi après n itérations de la série.\n",
    "\n",
    "**pi: int -> float**"
   ]
  },
  {
   "cell_type": "code",
   "execution_count": 37,
   "metadata": {},
   "outputs": [],
   "source": [
    "# saisissez ici votre fonction"
   ]
  },
  {
   "cell_type": "code",
   "execution_count": 38,
   "metadata": {},
   "outputs": [],
   "source": [
    "#jeu de tests\n",
    "assert madhava_pi(100)==3.1315929035585537\n",
    "assert madhava_pi(1)==4.0\n",
    "assert madhava_pi(1000)==3.140592653839794"
   ]
  },
  {
   "cell_type": "code",
   "execution_count": null,
   "metadata": {},
   "outputs": [],
   "source": []
  }
 ],
 "metadata": {
  "kernelspec": {
   "display_name": "Python 3",
   "language": "python",
   "name": "python3"
  },
  "language_info": {
   "codemirror_mode": {
    "name": "ipython",
    "version": 3
   },
   "file_extension": ".py",
   "mimetype": "text/x-python",
   "name": "python",
   "nbconvert_exporter": "python",
   "pygments_lexer": "ipython3",
   "version": "3.7.3"
  }
 },
 "nbformat": 4,
 "nbformat_minor": 2
}
