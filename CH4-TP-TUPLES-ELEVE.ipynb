{
 "cells": [
  {
   "cell_type": "markdown",
   "metadata": {},
   "source": [
    "# CH4 TP : Retouche d'image - ELEVES\n",
    "module PIL, pixels, tuples\n",
    "---\n",
    "\n",
    "## 1 Découverte de PIL\n",
    "Ce TP de retouche d'image utilise le module PIL (*python Image Library*), et le module IPython.display(affichages dans le notebook):"
   ]
  },
  {
   "cell_type": "code",
   "execution_count": null,
   "metadata": {
    "scrolled": true
   },
   "outputs": [],
   "source": [
    "from PIL import Image               # to load images\n",
    "from IPython.display import display # to display images\n",
    "\n",
    "im = Image.open('./Images/mona_lisa.jpg')\n",
    "display(im)"
   ]
  },
  {
   "cell_type": "markdown",
   "metadata": {},
   "source": [
    "Vous pouvez, dans ce TP choisir de travailler sur une autre image. Dans ce cas la télécharger dans le dossier ./Images. Veillez à conserver une taille raisonnable (moins de 500x500).\n"
   ]
  },
  {
   "cell_type": "code",
   "execution_count": null,
   "metadata": {},
   "outputs": [],
   "source": [
    "# Informations sur le fichier en utilisant le print formaté. \n",
    "print(f'type:{im.format}, taille:{im.size}, mode:{im.mode}')"
   ]
  },
  {
   "cell_type": "markdown",
   "metadata": {},
   "source": [
    " Quel est le type de l'attribut size de l'image im ? _ _ _ _ _ _ _ _ _ _ _ _ _\n",
    " \n",
    "---\n",
    "Chaque pixel est caractérisé par :\n",
    "- sa position (un tuple (x,y) )\n",
    "- sa couleur (un tuple (r,g,b) )\n",
    "---\n",
    "Les deux méthodes de PIL  les plus utiles pour le traitement des pixels sont :\n",
    "- **getpixel: tuple(x,y) -> tuple(r,g,b)**\n",
    "- **putpixel: tuple(x,y) x tuple(r,g,b) -> ?**\n",
    "\n",
    "Tester ces deux exemples :"
   ]
  },
  {
   "cell_type": "code",
   "execution_count": null,
   "metadata": {},
   "outputs": [],
   "source": [
    "r,v,b=im.getpixel((100,250))\n",
    "print(\"R : \",r,\"V : \",v,\"B : \",b)"
   ]
  },
  {
   "cell_type": "code",
   "execution_count": null,
   "metadata": {},
   "outputs": [],
   "source": [
    "im.putpixel((100,100),(255,0,0))"
   ]
  },
  {
   "cell_type": "markdown",
   "metadata": {},
   "source": [
    "Que fait cette deuxième commande ? _ _ _ _ _ _ _ _ _ _ _ _ _ _ _ _ _ _ _ _ _\n",
    "\n",
    "Pour tester les modifications, vous pouvez lancer à tout moment la commande\n",
    "**display(im)**\n",
    "\n",
    "---\n",
    "## Partie 2 : Retouche de pixels\n",
    "\n",
    "Les retouches d'images proposées ici concernent les couleurs. Il s'agit de construire des fonctions qui s'appliqueront aux pixels et qui modifieront leur tuple (R,V,B) :\n",
    "\n",
    "- inversion des couleurs\n",
    "- conversion en niveaux de gris\n",
    "- filtres \n",
    "\n",
    "A chaque fois que vous avez créé une fonnction qui modifie votre pixel. Il faut l'appliquer à tous les pixels de votre image. Ceci est réalisé grâce à une double boucle :\n"
   ]
  },
  {
   "cell_type": "code",
   "execution_count": null,
   "metadata": {},
   "outputs": [],
   "source": [
    "# ici l'odre est lexicographique\n",
    "for j in range(im.size[1]):    \n",
    "    for i in range(im.size[0]):  \n",
    "        #traitement sur le pixel en (i,j) \n",
    "       im.putpixel((i,j),filtre_rouge(im.getpixel((i,j))))\n",
    "display(im)"
   ]
  },
  {
   "cell_type": "markdown",
   "metadata": {},
   "source": [
    "### 2.1 : Inversion des couleurs : (*)\n",
    "\n",
    "Inverser des couleurs, c'est mettre des 0 à la place des 1 et réciproquement :\n",
    "\n",
    "**inverser: tuple -> tuple**"
   ]
  },
  {
   "cell_type": "code",
   "execution_count": null,
   "metadata": {},
   "outputs": [],
   "source": [
    "def inverser(c):\n",
    "    '''inversion des couleurs\n",
    "    entree : tuple r,g,b\n",
    "    sortie : tuple r,g,b'''\n",
    "  "
   ]
  },
  {
   "cell_type": "markdown",
   "metadata": {},
   "source": [
    "### 2.2 Niveaux de gris\n",
    "\n",
    "Une image apparaît grise si r=g=b dans la composante r,g,b\n",
    "Un calcul donne le niveau de gris\n",
    "\n",
    " **Gris = 0.299 Rouge + 0.587 Vert + 0.114 Bleu**\n",
    "\n",
    "Cette formule rend compte de la manière dont l’œil humain perçoit les trois composantes, rouge, vert et bleu, de la lumière. Pour chacune d'elles, la somme des 3 coefficients vaut 1. On remarquera la forte inégalité entre ceux-ci : une lumière verte apparaît plus claire qu'une lumière rouge, et encore plus qu'une lumière bleue. \n",
    "\n",
    "**griser: tuple->tuple**"
   ]
  },
  {
   "cell_type": "code",
   "execution_count": null,
   "metadata": {},
   "outputs": [],
   "source": [
    "def griser(c):\n",
    "    '''griser une couleur\n",
    "    entree : (r,g,b)\n",
    "    sortie : (r,g,b) grisé '''\n",
    "   \n"
   ]
  },
  {
   "cell_type": "markdown",
   "metadata": {},
   "source": [
    "### 2.3 Filtre rouge\n",
    "\n",
    "Un filtre qui ne laisse passer que les rouges\n",
    "\n",
    "**filtre_rouge: tuple->tuple**"
   ]
  },
  {
   "cell_type": "code",
   "execution_count": null,
   "metadata": {},
   "outputs": [],
   "source": [
    "def filtre_rouge(c):\n",
    "    '''filtre rouge\n",
    "    entree : (r,g,b)\n",
    "    sortie : (r,g,b) seuls les rouges spnt conserves'''\n"
   ]
  },
  {
   "cell_type": "markdown",
   "metadata": {},
   "source": [
    "### 2.4 Effet libre : A vous d'inventer des nouveaux effets \n",
    "\n",
    "---\n",
    "\n",
    "## 3. Une autre approche de l'accès aux pixels\n",
    "Remarque : Pour accélerer le traitement d'images, on peut remplacer les fonctions getpixel et putpixel par un accès direct au tableau bidimentionnel des pixels :"
   ]
  },
  {
   "cell_type": "code",
   "execution_count": null,
   "metadata": {},
   "outputs": [],
   "source": [
    "# PIL accesses images in Cartesian co-ordinates, so it is Image[columns, rows]\n",
    "# plus rapide que putpixel ou getpixel\n",
    "img = Image.new( 'RGB', (250,250), \"black\") # create a new black image\n",
    "pixels = img.load() # create the pixel map\n",
    "for j in range(img.size[1]):    \n",
    "    for i in range(img.size[0]):  \n",
    "        pixels[i,j] = (i, j, 100) # set the colour accordingly\n",
    "\n",
    "display(img)"
   ]
  },
  {
   "cell_type": "code",
   "execution_count": null,
   "metadata": {},
   "outputs": [],
   "source": []
  }
 ],
 "metadata": {
  "kernelspec": {
   "display_name": "Python 3",
   "language": "python",
   "name": "python3"
  },
  "language_info": {
   "codemirror_mode": {
    "name": "ipython",
    "version": 3
   },
   "file_extension": ".py",
   "mimetype": "text/x-python",
   "name": "python",
   "nbconvert_exporter": "python",
   "pygments_lexer": "ipython3",
   "version": "3.7.3"
  }
 },
 "nbformat": 4,
 "nbformat_minor": 2
}
