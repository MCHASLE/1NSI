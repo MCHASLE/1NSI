{
 "cells": [
  {
   "cell_type": "markdown",
   "metadata": {},
   "source": [
    "# CH 4 TP n°2 sur les tableaux \n",
    "\n",
    "## tableaux par compréhension\n",
    "\n",
    "### ex 1 : tableau des 10 premières puissances de 2 [1,2,4,8,....,1024]"
   ]
  },
  {
   "cell_type": "code",
   "execution_count": null,
   "metadata": {},
   "outputs": [],
   "source": [
    "[2**i for i in range(0,10)]"
   ]
  },
  {
   "cell_type": "markdown",
   "metadata": {},
   "source": [
    "### ex 2 : même question mais uniquement pour les puissances paires [1,4,16, ...1024]"
   ]
  },
  {
   "cell_type": "code",
   "execution_count": null,
   "metadata": {},
   "outputs": [],
   "source": [
    "[2**i for i in range(0,10) if i%2==0]"
   ]
  },
  {
   "cell_type": "markdown",
   "metadata": {},
   "source": [
    "## Tableaux à deux dimensions\n",
    "\n",
    "### ex3 : reproduire en python le carré magique présent au fronton de la SagradaFamilia et afficher par une boucle les éléments diagonaux"
   ]
  },
  {
   "cell_type": "code",
   "execution_count": 3,
   "metadata": {},
   "outputs": [
    {
     "name": "stdout",
     "output_type": "stream",
     "text": [
      "1\n",
      "7\n",
      "10\n",
      "15\n"
     ]
    }
   ],
   "source": [
    "SF=[[1,14,14,4],\n",
    "   [11,7,6,9],\n",
    "   [8,10,10,5],\n",
    "   [13,2,3,15]]\n",
    "for i in range(0,4):\n",
    "    print(SF[i][i])"
   ]
  },
  {
   "cell_type": "markdown",
   "metadata": {},
   "source": [
    "### ex4 : Créer par deux boucles imbriquées, la table de multiplication de Pythagore (IMPORTANT !)"
   ]
  },
  {
   "cell_type": "code",
   "execution_count": 7,
   "metadata": {},
   "outputs": [],
   "source": [
    "#initialisation\n",
    "pytha=[[0]*11 for i in range(0,11)]\n",
    "#remplissage\n",
    "for l in range(0,11):\n",
    "    for c in range(0,11):\n",
    "        pytha[l][c]=l*c"
   ]
  },
  {
   "cell_type": "code",
   "execution_count": 8,
   "metadata": {},
   "outputs": [
    {
     "name": "stdout",
     "output_type": "stream",
     "text": [
      "[[0, 0, 0, 0, 0, 0, 0, 0, 0, 0, 0], [0, 1, 2, 3, 4, 5, 6, 7, 8, 9, 10], [0, 2, 4, 6, 8, 10, 12, 14, 16, 18, 20], [0, 3, 6, 9, 12, 15, 18, 21, 24, 27, 30], [0, 4, 8, 12, 16, 20, 24, 28, 32, 36, 40], [0, 5, 10, 15, 20, 25, 30, 35, 40, 45, 50], [0, 6, 12, 18, 24, 30, 36, 42, 48, 54, 60], [0, 7, 14, 21, 28, 35, 42, 49, 56, 63, 70], [0, 8, 16, 24, 32, 40, 48, 56, 64, 72, 80], [0, 9, 18, 27, 36, 45, 54, 63, 72, 81, 90], [0, 10, 20, 30, 40, 50, 60, 70, 80, 90, 100]]\n"
     ]
    }
   ],
   "source": [
    "print(pytha)"
   ]
  },
  {
   "cell_type": "markdown",
   "metadata": {},
   "source": [
    "### Ex 5 Le triangle de Pascal"
   ]
  },
  {
   "cell_type": "code",
   "execution_count": 10,
   "metadata": {},
   "outputs": [],
   "source": [
    "#initialisations\n",
    "TP=[[0]*11 for i in range(11)]\n",
    "TP[0][0]=1 #première ligne\n",
    "TP[0][1]=1\n",
    "for l in range(11): # première colonne\n",
    "    TP[l][0]=1\n",
    "#remplissage des autres lignes et colonnes\n",
    "for l in range(1,11): \n",
    "    for c in range(1,11):\n",
    "        TP[l][c]=TP[l-1][c-1]+TP[l-1][c]"
   ]
  },
  {
   "cell_type": "code",
   "execution_count": 19,
   "metadata": {},
   "outputs": [
    {
     "name": "stdout",
     "output_type": "stream",
     "text": [
      "[1, 1, 0, 0, 0, 0, 0, 0, 0, 0, 0]\n",
      "[1, 2, 1, 0, 0, 0, 0, 0, 0, 0, 0]\n",
      "[1, 3, 3, 1, 0, 0, 0, 0, 0, 0, 0]\n",
      "[1, 4, 6, 4, 1, 0, 0, 0, 0, 0, 0]\n",
      "[1, 5, 10, 10, 5, 1, 0, 0, 0, 0, 0]\n",
      "[1, 6, 15, 20, 15, 6, 1, 0, 0, 0, 0]\n",
      "[1, 7, 21, 35, 35, 21, 7, 1, 0, 0, 0]\n",
      "[1, 8, 28, 56, 70, 56, 28, 8, 1, 0, 0]\n",
      "[1, 9, 36, 84, 126, 126, 84, 36, 9, 1, 0]\n",
      "[1, 10, 45, 120, 210, 252, 210, 120, 45, 10, 1]\n",
      "[1, 11, 55, 165, 330, 462, 462, 330, 165, 55, 11]\n"
     ]
    }
   ],
   "source": [
    "for ligne in TP:\n",
    "    print(ligne)"
   ]
  },
  {
   "cell_type": "code",
   "execution_count": 18,
   "metadata": {},
   "outputs": [
    {
     "name": "stdout",
     "output_type": "stream",
     "text": [
      "puissance ?5\n",
      "(a+b)^5=1a^5b^0 + 5a^4b^1 + 10a^3b^2 + 10a^2b^3 + 5a^1b^4 + 1a^0b^5 + \n"
     ]
    }
   ],
   "source": [
    "n=int(input(\"puissance ?\")) \n",
    "t=\"(a+b)^\"+str(n)+\"=\"\n",
    "for i in range(n+1):\n",
    "    t=t+str(TP[n-1][i])+\"a^\"+str(n-i)+\"b^\"+str(i)+\" + \"\n",
    "print(t)"
   ]
  },
  {
   "cell_type": "code",
   "execution_count": 13,
   "metadata": {},
   "outputs": [
    {
     "name": "stdout",
     "output_type": "stream",
     "text": [
      "(a+b)^2=a^2b^0 + a^1b^1 + a^0b^2 + \n"
     ]
    }
   ],
   "source": [
    "print(t)"
   ]
  },
  {
   "cell_type": "markdown",
   "metadata": {},
   "source": [
    "### ex 6 : Le morpion"
   ]
  },
  {
   "cell_type": "code",
   "execution_count": 1,
   "metadata": {},
   "outputs": [
    {
     "name": "stdout",
     "output_type": "stream",
     "text": [
      "#:ligne?1\n",
      "#:colonne?1\n",
      "[' ', ' ', ' ']\n",
      "[' ', '#', ' ']\n",
      "[' ', ' ', ' ']\n",
      "O:ligne?2\n",
      "O:colonne?1\n",
      "[' ', ' ', ' ']\n",
      "[' ', '#', ' ']\n",
      "[' ', 'O', ' ']\n",
      "#:ligne?-1\n",
      "#:colonne?6\n",
      "[' ', ' ', ' ']\n",
      "[' ', '#', ' ']\n",
      "[' ', 'O', ' ']\n"
     ]
    }
   ],
   "source": [
    "#initialisations\n",
    "n=3\n",
    "T=[[' ']*n for i in range(n)]\n",
    "joueur1=True  #ce booleen dit si c'est joueur1 qui joue\n",
    "continuer=True #ce booleen dit si la partie continue\n",
    "while continuer :\n",
    "    if joueur1: #choix du symbole\n",
    "        symb=\"#\"\n",
    "    else :\n",
    "        symb=\"O\"\n",
    "    l=int(input(symb +':ligne?'))\n",
    "    c=int(input(symb+':colonne?'))\n",
    "    if l==-1: #arret du jeu\n",
    "        continuer=False\n",
    "    else :\n",
    "        T[l][c] = symb\n",
    "    for ligne in T: #affichage du jeu \n",
    "        print(ligne)\n",
    "    joueur1= not joueur1 # on change de joueur"
   ]
  },
  {
   "cell_type": "code",
   "execution_count": null,
   "metadata": {},
   "outputs": [],
   "source": []
  },
  {
   "cell_type": "code",
   "execution_count": null,
   "metadata": {},
   "outputs": [],
   "source": [
    "\n",
    "\n",
    "\n",
    "\n",
    "\n",
    "\n",
    "\n",
    "\n",
    "\n",
    "\n",
    "\n",
    "\n",
    "\n",
    "\n",
    "\n"
   ]
  }
 ],
 "metadata": {
  "kernelspec": {
   "display_name": "Python 3",
   "language": "python",
   "name": "python3"
  },
  "language_info": {
   "codemirror_mode": {
    "name": "ipython",
    "version": 3
   },
   "file_extension": ".py",
   "mimetype": "text/x-python",
   "name": "python",
   "nbconvert_exporter": "python",
   "pygments_lexer": "ipython3",
   "version": "3.7.3"
  }
 },
 "nbformat": 4,
 "nbformat_minor": 2
}
