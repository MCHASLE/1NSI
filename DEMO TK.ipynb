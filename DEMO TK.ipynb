{
 "cells": [
  {
   "cell_type": "code",
   "execution_count": 3,
   "metadata": {},
   "outputs": [],
   "source": [
    "import tkinter as tk\n",
    "from tkinter import messagebox # pour les boîtes de dialogue\n",
    "\n",
    "def hello():  # cette fonction est appelée par le bouton\n",
    "    if sexe.get()==\"F\":   # récupération du sexe\n",
    "        civ=\", madame \"\n",
    "    else:\n",
    "        civ=\", monsieur \"\n",
    "    message= \"bonjour \"+civ+nom.get() # récupération du nom\n",
    "    print(message)\n",
    "    messagebox.showinfo( \"Hello\",message ) # boîte de dialogue\n",
    "\n",
    "\n",
    "fenetre = tk.Tk()  # la fenetre (ici non dimensionnée)\n",
    "tk.Label(fenetre, text=\"Entrez votre nom : \").grid(row=0) # un texte en première ligne\n",
    "\n",
    "nom = tk.StringVar() # variable pour la zone de saisie\n",
    "e1 = tk.Entry(fenetre,textvariable=nom).grid(row=1) # la zone de saisie\n",
    "\n",
    "sexe = tk.StringVar() # variable pour les boutons radio\n",
    "sexe.set(\"F\") # initialisation\n",
    "tk.Radiobutton(fenetre, variable=sexe, text=\"féminin\", value=\"F\").grid(row=2,column=0)\n",
    "tk.Radiobutton(fenetre, variable=sexe, text=\"masculin\", value=\"M\").grid(row=2,column=1)\n",
    "tk.Button(fenetre, text =\"Ok\", command = hello).grid(row=3) # le bouton avec la commande\n",
    "\n",
    "tk.mainloop( ) # boucle principale"
   ]
  },
  {
   "cell_type": "code",
   "execution_count": null,
   "metadata": {},
   "outputs": [],
   "source": []
  },
  {
   "cell_type": "code",
   "execution_count": null,
   "metadata": {},
   "outputs": [],
   "source": []
  }
 ],
 "metadata": {
  "kernelspec": {
   "display_name": "Python 3",
   "language": "python",
   "name": "python3"
  },
  "language_info": {
   "codemirror_mode": {
    "name": "ipython",
    "version": 3
   },
   "file_extension": ".py",
   "mimetype": "text/x-python",
   "name": "python",
   "nbconvert_exporter": "python",
   "pygments_lexer": "ipython3",
   "version": "3.7.3"
  }
 },
 "nbformat": 4,
 "nbformat_minor": 5
}
