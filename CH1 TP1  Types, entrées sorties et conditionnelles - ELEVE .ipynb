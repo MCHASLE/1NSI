{
 "cells": [
  {
   "cell_type": "markdown",
   "metadata": {},
   "source": [
    "# CHAPITRE 1 - Les bases de Python\n",
    "\n",
    "## Introduction : Découverte du notebook Jupyter\n",
    "\n",
    "Ceci est votre premier notebook. Il est composé de deux types de cellules : les zones de texte enrichi (Markdown) et les zones de code Python (Code)\n",
    "\n",
    "Il vous est possible dans ce notebook de créer à loisir des cellules ( bouton [+] et sélection du type dans la liste déroulante)\n",
    "\n",
    "Pour modifier du texte : double cliquer sur la zone de texte\n",
    "Pour exécuter du code : shift + Entrée\n",
    "\n",
    "Essayez d'exécuter le code suivant :"
   ]
  },
  {
   "cell_type": "code",
   "execution_count": null,
   "metadata": {},
   "outputs": [],
   "source": [
    "import datetime\n",
    "print('Bonjour nous sommes le : '+str(datetime.datetime.now()))"
   ]
  },
  {
   "cell_type": "markdown",
   "metadata": {},
   "source": [
    "## Exercice 1 : Positif ou négatif ?\n",
    "Réaliser un petit programme dans la cellule suivante qui :\n",
    "1. Demande à l'utilisateur de saisir un nombre\n",
    "2. Affiche si ce nombre est positif ou négatif"
   ]
  },
  {
   "cell_type": "code",
   "execution_count": 2,
   "metadata": {},
   "outputs": [],
   "source": [
    "# Exercice 1 : saisir le code ici"
   ]
  },
  {
   "cell_type": "markdown",
   "metadata": {},
   "source": [
    "## Exercice 2 : Un peu de politesse\n",
    "Réaliser un petit programme qui\n",
    "1. Demande le prénom et le nom de l'utilisateur\n",
    "2. Affiche un message de politesse utilisant ces deux informations ci dessus.\n"
   ]
  },
  {
   "cell_type": "code",
   "execution_count": null,
   "metadata": {},
   "outputs": [],
   "source": []
  },
  {
   "cell_type": "markdown",
   "metadata": {},
   "source": [
    "## Exercice 3 : En 2030 ?\n",
    "Réaliser un petit programme qui affiche l'âge qu'aura l'utilisateur en 2030."
   ]
  },
  {
   "cell_type": "code",
   "execution_count": null,
   "metadata": {},
   "outputs": [],
   "source": []
  },
  {
   "cell_type": "markdown",
   "metadata": {},
   "source": [
    "## Exercice 4: Indice de masse corporelle\n",
    "Réaliser un petit programme qui affiche pour l'utilisateur son IMC ainsi que la catégorie dans laquelle il se trouve (Obésité morbide,Obésité sévère,Obésité modérée,Surpoids,Corpulence normale,Maigreur,Famine). On trouvera le calcul sur internet."
   ]
  },
  {
   "cell_type": "code",
   "execution_count": null,
   "metadata": {},
   "outputs": [],
   "source": []
  }
 ],
 "metadata": {
  "kernelspec": {
   "display_name": "Python 3",
   "language": "python",
   "name": "python3"
  },
  "language_info": {
   "codemirror_mode": {
    "name": "ipython",
    "version": 3
   },
   "file_extension": ".py",
   "mimetype": "text/x-python",
   "name": "python",
   "nbconvert_exporter": "python",
   "pygments_lexer": "ipython3",
   "version": "3.7.3"
  }
 },
 "nbformat": 4,
 "nbformat_minor": 2
}
