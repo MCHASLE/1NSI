{
 "cells": [
  {
   "cell_type": "markdown",
   "metadata": {},
   "source": [
    "# CHAPITRE 11 ALGORITHMIQUE - ELEVE\n"
   ]
  },
  {
   "cell_type": "code",
   "execution_count": 1,
   "metadata": {},
   "outputs": [],
   "source": [
    "# modules utiles\n",
    "import random"
   ]
  },
  {
   "cell_type": "code",
   "execution_count": 2,
   "metadata": {},
   "outputs": [],
   "source": [
    "# création d'un tableau aléatoire de taille n\n",
    "n=10\n",
    "t=[random.randint(1,1000) for i in range(n)]"
   ]
  },
  {
   "cell_type": "code",
   "execution_count": 3,
   "metadata": {},
   "outputs": [
    {
     "name": "stdout",
     "output_type": "stream",
     "text": [
      "[219, 342, 419, 195, 835, 794, 947, 157, 668, 311]\n"
     ]
    }
   ],
   "source": [
    "print(t)"
   ]
  },
  {
   "cell_type": "markdown",
   "metadata": {},
   "source": [
    "## 1 . Recherche linéaire (tableau non trié)"
   ]
  },
  {
   "cell_type": "code",
   "execution_count": null,
   "metadata": {},
   "outputs": [],
   "source": [
    "#batterie de tests\n",
    "t=[275, 109, 200, 513, 935, 123, 612, 27, 49, 677]\n",
    "assert recherche(200,t)==2\n",
    "assert recherche(125,t)==-1"
   ]
  },
  {
   "cell_type": "code",
   "execution_count": null,
   "metadata": {},
   "outputs": [],
   "source": [
    "def recherche(n,t):\n",
    "    ''' entree : n entier\n",
    "            t tableau d'entiers > 0non trié\n",
    "        sortie : indice du nombre si il est trouvé, -1 sinon\n",
    "    '''\n",
    "\n",
    "      "
   ]
  },
  {
   "cell_type": "markdown",
   "metadata": {},
   "source": [
    "## 2.Recherche dichotomique (tableau trié) "
   ]
  },
  {
   "cell_type": "code",
   "execution_count": null,
   "metadata": {},
   "outputs": [],
   "source": [
    "t = [27, 49, 109, 123, 200, 275, 513, 612, 677, 935]\n",
    "assert recherche_dicho(200,t)==4\n",
    "assert recherche_dicho(125,t)==-1"
   ]
  },
  {
   "cell_type": "code",
   "execution_count": null,
   "metadata": {},
   "outputs": [],
   "source": [
    "# pour trier le tableau faire t.sort()\n",
    "def recherche_dicho(n,t):\n",
    "    ''' Entrée : n nombre à rechercher , t tableau de nombres >0 trié en ordre croissant !!!\n",
    "        Sortie : indice du nombre si il est trouvé, -1 sinon\n",
    "    '''\n",
    "  "
   ]
  },
  {
   "cell_type": "code",
   "execution_count": null,
   "metadata": {},
   "outputs": [],
   "source": [
    " recherche_dicho(274,t)"
   ]
  },
  {
   "cell_type": "markdown",
   "metadata": {},
   "source": [
    "## 3 Comparaison des deux algorithmes"
   ]
  },
  {
   "cell_type": "code",
   "execution_count": null,
   "metadata": {},
   "outputs": [],
   "source": [
    "import datetime"
   ]
  },
  {
   "cell_type": "code",
   "execution_count": null,
   "metadata": {},
   "outputs": [],
   "source": [
    "# création d'un tableau aléatoire de taille n\n",
    "n=10000000\n",
    "t=[random.randint(1,1000000) for i in range(n)]"
   ]
  },
  {
   "cell_type": "code",
   "execution_count": null,
   "metadata": {},
   "outputs": [],
   "source": [
    "start = datetime.datetime.now()  #chrono déclenché\n",
    "print(recherche(2230000,t))\n",
    "end = datetime.datetime.now() #chrono arrêté\n",
    "print((end-start).total_seconds())"
   ]
  },
  {
   "cell_type": "code",
   "execution_count": null,
   "metadata": {},
   "outputs": [],
   "source": [
    "t.sort()\n",
    "start = datetime.datetime.now()  #chrono déclenché\n",
    "print(recherche_dicho(2230000,t))\n",
    "end = datetime.datetime.now() #chrono arrêté\n",
    "print((end-start).total_seconds())\n"
   ]
  },
  {
   "cell_type": "code",
   "execution_count": null,
   "metadata": {},
   "outputs": [],
   "source": []
  }
 ],
 "metadata": {
  "kernelspec": {
   "display_name": "Python 3",
   "language": "python",
   "name": "python3"
  },
  "language_info": {
   "codemirror_mode": {
    "name": "ipython",
    "version": 3
   },
   "file_extension": ".py",
   "mimetype": "text/x-python",
   "name": "python",
   "nbconvert_exporter": "python",
   "pygments_lexer": "ipython3",
   "version": "3.7.3"
  }
 },
 "nbformat": 4,
 "nbformat_minor": 2
}
