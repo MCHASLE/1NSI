{
 "cells": [
  {
   "cell_type": "markdown",
   "metadata": {},
   "source": [
    "# TP : le problème du sac à dos - Elève\n",
    "\n",
    "Il s'agit dans ce TP :\n",
    "\n",
    "- de comprendre l'énoncé\n",
    "- de coder la fonction sac_dos qui utilise une heuristique glouton\n",
    "- de comprendre la fin du TP qui est l'utilisation d'une autre heuristique glouton\n",
    "\n",
    "Enoncé :\n",
    "> Un voyageur doit emporter ses affaires dans son sac à dos. Malheureusement, la capacité du sac étant limitée, il faut faire des choix. Chaque objet a un poids et une valeur. Il s'agit d'optimiser la valeur stockée. \n",
    "\n",
    "<img src=\"https://upload.wikimedia.org/wikipedia/commons/thumb/f/fd/Knapsack.svg/1024px-Knapsack.svg.png\" width=400>\n",
    "\n",
    "Comme pour le problème du rendu de monnaie, il s'agit d'un problème d'optimisation NP-complet.\n",
    "Nous allons essayer deux algorithmes gloutons pour tenter de résoudre ce problème."
   ]
  },
  {
   "cell_type": "markdown",
   "metadata": {},
   "source": [
    "## Heuristique 1 : privilégier à chaque fois l'objet de la plus grande valeur possible."
   ]
  },
  {
   "cell_type": "code",
   "execution_count": 9,
   "metadata": {},
   "outputs": [],
   "source": [
    "listeObjets = [(4,12),(2,2),(1,1),(10,4),(2,1)] # chaque objet est un tuple (valeur,poids)"
   ]
  },
  {
   "cell_type": "code",
   "execution_count": 10,
   "metadata": {},
   "outputs": [
    {
     "name": "stdout",
     "output_type": "stream",
     "text": [
      "[(10, 4), (4, 12), (2, 2), (2, 1), (1, 1)]\n"
     ]
    }
   ],
   "source": [
    "listeObjets.sort(reverse=True) # tri par ordre décroissant de valeur\n",
    "print(listeObjets)"
   ]
  },
  {
   "cell_type": "code",
   "execution_count": 1,
   "metadata": {},
   "outputs": [],
   "source": [
    "def sac_dos(cont,lObj):\n",
    "    '''Entrée : cont (int) : contenance du sac en kg\n",
    "                l0bj (list) : liste de tuples (valeur, poids) triés dans l'ordre décroissant de poids\n",
    "       Sortie : tuple (listeobjetspris,valeur,poids)'''\n",
    "\n",
    "    # à coder"
   ]
  },
  {
   "cell_type": "code",
   "execution_count": 13,
   "metadata": {},
   "outputs": [
    {
     "data": {
      "text/plain": [
       "([(10, 4), (2, 2), (2, 1), (1, 1)], 15, 8)"
      ]
     },
     "execution_count": 13,
     "metadata": {},
     "output_type": "execute_result"
    }
   ],
   "source": [
    "# test\n",
    "sac_dos(15,listeObjets)"
   ]
  },
  {
   "cell_type": "markdown",
   "metadata": {},
   "source": [
    "La valeur stockée est de 15 $ pour un poids de 8 kg"
   ]
  },
  {
   "cell_type": "markdown",
   "metadata": {},
   "source": [
    "## deuxième heuristique, privilégier le rapport valeur/poids\n",
    "\n",
    "Dans cette partie, nous n'avons pas à reprogrammer l'algorithme. Il suffira de changer l'ordre des objets.\n"
   ]
  },
  {
   "cell_type": "code",
   "execution_count": 27,
   "metadata": {},
   "outputs": [],
   "source": [
    "# On propose les objets suivants\n",
    "listeObjets = [(3,7),(10,4),(2,5),(11,12),(1,2)]"
   ]
  },
  {
   "cell_type": "code",
   "execution_count": 36,
   "metadata": {},
   "outputs": [
    {
     "name": "stdout",
     "output_type": "stream",
     "text": [
      "[(11, 12), (10, 4), (3, 7), (2, 5), (1, 2)]\n"
     ]
    }
   ],
   "source": [
    "listeObjets.sort(reverse=True) # tri par ordre décroissant de valeur\n",
    "print(listeObjets)"
   ]
  },
  {
   "cell_type": "code",
   "execution_count": 37,
   "metadata": {},
   "outputs": [
    {
     "data": {
      "text/plain": [
       "([(11, 12), (1, 2)], 12, 14)"
      ]
     },
     "execution_count": 37,
     "metadata": {},
     "output_type": "execute_result"
    }
   ],
   "source": [
    "sac_dos(15,listeObjets)"
   ]
  },
  {
   "cell_type": "markdown",
   "metadata": {},
   "source": [
    "Selon l'heuristique précédente, la valeur stockée est de 12 $ pour un poids de 14 kg."
   ]
  },
  {
   "cell_type": "markdown",
   "metadata": {},
   "source": [
    "L'objet de (11 $, 12 kg) est choisi en premier, car il est de plus grande valeur. Mais il prend presque toute la place. Donc le choix n'est pas forcément le plus pertinent. On cherche donc à classer les objets dans l'ordre décroissant du rapport valeur/poids :"
   ]
  },
  {
   "cell_type": "code",
   "execution_count": 39,
   "metadata": {},
   "outputs": [
    {
     "name": "stdout",
     "output_type": "stream",
     "text": [
      "[(10, 4), (11, 12), (1, 2), (3, 7), (2, 5)]\n"
     ]
    }
   ],
   "source": [
    "# le code qui tri par rapport valeur/poids\n",
    "listeObjets.sort(key=lambda x: x[0]/x[1],reverse=True)\n",
    "print(listeObjets)"
   ]
  },
  {
   "cell_type": "code",
   "execution_count": 40,
   "metadata": {},
   "outputs": [
    {
     "data": {
      "text/plain": [
       "([(10, 4), (1, 2), (3, 7)], 14, 13)"
      ]
     },
     "execution_count": 40,
     "metadata": {},
     "output_type": "execute_result"
    }
   ],
   "source": [
    "sac_dos(15,listeObjets)"
   ]
  },
  {
   "cell_type": "markdown",
   "metadata": {},
   "source": [
    "La valeur stockée est de 14 $ pour un poids de 13 kg. C'est meilleur !"
   ]
  }
 ],
 "metadata": {
  "kernelspec": {
   "display_name": "Python 3",
   "language": "python",
   "name": "python3"
  },
  "language_info": {
   "codemirror_mode": {
    "name": "ipython",
    "version": 3
   },
   "file_extension": ".py",
   "mimetype": "text/x-python",
   "name": "python",
   "nbconvert_exporter": "python",
   "pygments_lexer": "ipython3",
   "version": "3.7.1"
  }
 },
 "nbformat": 4,
 "nbformat_minor": 4
}
